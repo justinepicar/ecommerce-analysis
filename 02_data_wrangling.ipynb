{
 "cells": [
  {
   "cell_type": "code",
   "execution_count": 3,
   "metadata": {},
   "outputs": [],
   "source": [
    "# Load the \"autoreload\" extension\n",
    "#%load_ext autoreload\n",
    "\n",
    "#reload extension\n",
    "%reload_ext autoreload\n",
    "\n",
    "# always reload modules marked with \"%aimport\"\n",
    "%autoreload 1\n",
    "\n",
    "#Import all the necessary packages to query from the BigQuery Rest API\n",
    "import os\n",
    "import sys\n",
    "from google.cloud import bigquery\n",
    "\n",
    "#add the 'python' directory as one where we can import modules\n",
    "py_dir = os.path.join(os.getcwd(), 'python')\n",
    "sys.path.append(py_dir)\n",
    "\n",
    "# import my method from the source code\n",
    "from python.get_info import get_type\n",
    "from python.transaction import get_transaction_dates, get_true_transactions, get_false_transactions\n",
    "from python.create_features import get_true_features, get_false_features\n",
    "from python.create_dataset import create_dataset\n",
    "\n",
    "#Import all necessary packages for visualization and transformation of the data\n",
    "import pandas as pd\n",
    "import numpy as np"
   ]
  },
  {
   "cell_type": "code",
   "execution_count": 2,
   "metadata": {},
   "outputs": [],
   "source": [
    "#access BigQuery with your personal API key\n",
    "os.environ[\"GOOGLE_APPLICATION_CREDENTIALS\"]=\"api_key.json\"\n",
    "client = bigquery.Client()"
   ]
  },
  {
   "cell_type": "markdown",
   "metadata": {},
   "source": [
    "### CREATE TRAINING DATA"
   ]
  },
  {
   "cell_type": "markdown",
   "metadata": {},
   "source": [
    "To create our training dataset we will be using the following features from the __totals__ column we examined in the last dataset:\n",
    "\n",
    "- __visits__ - this represents the number of sessions\n",
    "- __hits__ - total number of interactions within a session\n",
    "- __pageviews__ - total number of pageviews in a session\n",
    "- __bounces__ - total bounces. These trigger in the Analytics server if only a single interaction is made on the whole website\n",
    "- __sessionQuality__ - an estimate of how close a particular estimate was close to transacting from 1 to 100 with 1 being the lowest session quality and 100 being close to transacting\n",
    "- __timeOnSite__ - total time of the session in seconds"
   ]
  },
  {
   "cell_type": "markdown",
   "metadata": {},
   "source": [
    "For this next step, I will be using functions to call each query. We need to set up the start and end dates as well as indicate whether this dataset will be a _train_ or _test_ set."
   ]
  },
  {
   "cell_type": "code",
   "execution_count": 4,
   "metadata": {},
   "outputs": [],
   "source": [
    "START_DATE = '20170701'\n",
    "END_DATE = '20170731'\n",
    "data_type = 'train'"
   ]
  },
  {
   "cell_type": "markdown",
   "metadata": {},
   "source": [
    "We will be performing the following steps (please note each step except for the final step will create a temporary table in your BigQuery project. You can view the results of your table there):\n",
    "\n",
    "1. Getting the transaction dates where the earliest known transaction of each user occurs\n",
    "2. Getting and creating the features by visitor id and by each user's visit date from the transaction date. Because each feature is recorded for each session, we need to create a training data set that aggregates all these features. We will be summing all features except for sessionQuality. We will average the session quality by day and round to two decimal points. We need to separately query visitors who made purchases from visitors who didn't make purchases\n",
    "3. Breaking out each feature by difference in days and weeks prior to the transaction date. Again, we need to separately query visitors who made purchases from visitors who didn't make purchases. For users that made no transactions, we will pick 5 random days as our false 'transaction' dates and remove any duplicate visitors who may have made purchases on other days and none on others. We wil then break out the features in the following format:\n",
    "    - day0 - behavior on site on the day of the first transaction\n",
    "    - day1 - behavior on site 1 day before the first transaction\n",
    "    - day2 - behavior on site 2 days before the first transaction\n",
    "    - day3 - behavior on site 3 days before the first transaction\n",
    "    - day4_6 - behavior on site 4-6 days before the first transaction\n",
    "    - w2 - behavior on site 7-14 days before the first transaction (or behavior within two weeks before the first transaction)\n",
    "4. Combining the temporary true feature and false feature tables in step 3 and labeling them (1 for purchase, 0 for no purchase) to create our training dataset.    \n",
    "\n",
    "For further documentation, go to the 'python/' folder of this project and view all queries."
   ]
  },
  {
   "cell_type": "code",
   "execution_count": 4,
   "metadata": {},
   "outputs": [],
   "source": [
    "query0 = get_transaction_dates(START_DATE, END_DATE, data_type)\n",
    "query1 = get_true_transactions(START_DATE, END_DATE, data_type)\n",
    "query2 = get_false_transactions(START_DATE, END_DATE, data_type)\n",
    "query3 = get_true_features(data_type)\n",
    "query4 = get_false_features(data_type)\n",
    "final_query = create_dataset(data_type)"
   ]
  },
  {
   "cell_type": "markdown",
   "metadata": {},
   "source": [
    "For brevity, we will combine each query and simultaneously create our temporary tables for the training dataset."
   ]
  },
  {
   "cell_type": "code",
   "execution_count": 5,
   "metadata": {},
   "outputs": [
    {
     "data": {
      "text/plain": [
       "<google.cloud.bigquery.job.query.QueryJob at 0x2d6b5221070>"
      ]
     },
     "execution_count": 5,
     "metadata": {},
     "output_type": "execute_result"
    }
   ],
   "source": [
    "query = query0+query1+query2+query3+query4\n",
    "client.query(query)"
   ]
  },
  {
   "cell_type": "markdown",
   "metadata": {},
   "source": [
    "The final query will not create a temporary table. Instead we will transform the results into a dataframe that we can analyze, preprocess, and model in the next notebooks."
   ]
  },
  {
   "cell_type": "code",
   "execution_count": 7,
   "metadata": {
    "scrolled": true
   },
   "outputs": [],
   "source": [
    "training_data = client.query(final_query).to_dataframe()"
   ]
  },
  {
   "cell_type": "code",
   "execution_count": 8,
   "metadata": {},
   "outputs": [
    {
     "name": "stdout",
     "output_type": "stream",
     "text": [
      "This path exists.\n"
     ]
    }
   ],
   "source": [
    "#Create a new directory to save the data\n",
    "if os.path.exists('data'):\n",
    "    print('This path exists.')\n",
    "else:\n",
    "    os.mkdir('data')"
   ]
  },
  {
   "cell_type": "code",
   "execution_count": 5,
   "metadata": {},
   "outputs": [],
   "source": [
    "#save final training dataset into a csv format and save to the data folder\n",
    "#training_data.to_csv(f'data/train_{START_DATE}_to_{END_DATE}')\n",
    "#read training data into jupyter notebook\n",
    "train = pd.read_csv(f'data/train_{START_DATE}_to_{END_DATE}', index_col=0)"
   ]
  },
  {
   "cell_type": "markdown",
   "metadata": {},
   "source": [
    "### CREATE VALIDATION DATA"
   ]
  },
  {
   "cell_type": "markdown",
   "metadata": {},
   "source": [
    "In order to accurately see if our model works we will pick a date interval completely independent of the train or test set and apply the same pipeline to create our validation set."
   ]
  },
  {
   "cell_type": "code",
   "execution_count": 11,
   "metadata": {},
   "outputs": [],
   "source": [
    "#pick any two week interval that is not the dates shown for the training data\n",
    "START_DATE = '20170301'\n",
    "END_DATE = '20170314'\n",
    "data_type = 'validation'"
   ]
  },
  {
   "cell_type": "code",
   "execution_count": 12,
   "metadata": {},
   "outputs": [],
   "source": [
    "query0 = get_transaction_dates(START_DATE, END_DATE, data_type)\n",
    "query1 = get_true_transactions(START_DATE, END_DATE, data_type)\n",
    "query2 = get_false_transactions(START_DATE, END_DATE, data_type)\n",
    "query3 = get_true_features(data_type)\n",
    "query4 = get_false_features(data_type)\n",
    "final_query = create_dataset(data_type)"
   ]
  },
  {
   "cell_type": "code",
   "execution_count": 13,
   "metadata": {},
   "outputs": [
    {
     "data": {
      "text/plain": [
       "<google.cloud.bigquery.job.query.QueryJob at 0x2d6b6a8bc10>"
      ]
     },
     "execution_count": 13,
     "metadata": {},
     "output_type": "execute_result"
    }
   ],
   "source": [
    "query = query0+query1+query2+query3+query4\n",
    "client.query(query)"
   ]
  },
  {
   "cell_type": "code",
   "execution_count": 14,
   "metadata": {
    "scrolled": true
   },
   "outputs": [],
   "source": [
    "val_data = client.query(final_query).to_dataframe()"
   ]
  },
  {
   "cell_type": "code",
   "execution_count": 15,
   "metadata": {},
   "outputs": [],
   "source": [
    "#save final validation dataset into a csv format\n",
    "val_data.to_csv(f'data/val_{START_DATE}_to_{END_DATE}')\n",
    "#read validation data into jupyter notebook\n",
    "val = pd.read_csv(f'data/val_{START_DATE}_to_{END_DATE}', index_col=0)"
   ]
  },
  {
   "cell_type": "markdown",
   "metadata": {},
   "source": [
    "### PREVIEW"
   ]
  },
  {
   "cell_type": "markdown",
   "metadata": {},
   "source": [
    "Let's preview our final datasets! We will explore this more in the next notebook."
   ]
  },
  {
   "cell_type": "code",
   "execution_count": 7,
   "metadata": {},
   "outputs": [
    {
     "data": {
      "text/html": [
       "<div>\n",
       "<style scoped>\n",
       "    .dataframe tbody tr th:only-of-type {\n",
       "        vertical-align: middle;\n",
       "    }\n",
       "\n",
       "    .dataframe tbody tr th {\n",
       "        vertical-align: top;\n",
       "    }\n",
       "\n",
       "    .dataframe thead th {\n",
       "        text-align: right;\n",
       "    }\n",
       "</style>\n",
       "<table border=\"1\" class=\"dataframe\">\n",
       "  <thead>\n",
       "    <tr style=\"text-align: right;\">\n",
       "      <th></th>\n",
       "      <th>visitor_id</th>\n",
       "      <th>day0_time_on_site_seconds</th>\n",
       "      <th>day1_time_on_site_seconds</th>\n",
       "      <th>day2_time_on_site_seconds</th>\n",
       "      <th>day3_time_on_site_seconds</th>\n",
       "      <th>day4_6_time_on_site_seconds</th>\n",
       "      <th>w2_time_on_site_seconds</th>\n",
       "      <th>day0_hits</th>\n",
       "      <th>day1_hits</th>\n",
       "      <th>day2_hits</th>\n",
       "      <th>...</th>\n",
       "      <th>day3_sessions</th>\n",
       "      <th>day4_6_sessions</th>\n",
       "      <th>w2_sessions</th>\n",
       "      <th>day0_session_quality</th>\n",
       "      <th>day1_session_quality</th>\n",
       "      <th>day2_session_quality</th>\n",
       "      <th>day3_session_quality</th>\n",
       "      <th>day4_6_session_quality</th>\n",
       "      <th>w2_session_quality</th>\n",
       "      <th>label</th>\n",
       "    </tr>\n",
       "  </thead>\n",
       "  <tbody>\n",
       "    <tr>\n",
       "      <th>0</th>\n",
       "      <td>3092487309701391768</td>\n",
       "      <td>570.0</td>\n",
       "      <td>NaN</td>\n",
       "      <td>1021.0</td>\n",
       "      <td>NaN</td>\n",
       "      <td>NaN</td>\n",
       "      <td>533.0</td>\n",
       "      <td>26.0</td>\n",
       "      <td>NaN</td>\n",
       "      <td>6.0</td>\n",
       "      <td>...</td>\n",
       "      <td>NaN</td>\n",
       "      <td>NaN</td>\n",
       "      <td>2.0</td>\n",
       "      <td>60.0</td>\n",
       "      <td>NaN</td>\n",
       "      <td>3.0</td>\n",
       "      <td>NaN</td>\n",
       "      <td>NaN</td>\n",
       "      <td>1.5</td>\n",
       "      <td>1</td>\n",
       "    </tr>\n",
       "    <tr>\n",
       "      <th>1</th>\n",
       "      <td>780253600713375371</td>\n",
       "      <td>705.0</td>\n",
       "      <td>NaN</td>\n",
       "      <td>NaN</td>\n",
       "      <td>NaN</td>\n",
       "      <td>NaN</td>\n",
       "      <td>1181.0</td>\n",
       "      <td>58.0</td>\n",
       "      <td>NaN</td>\n",
       "      <td>NaN</td>\n",
       "      <td>...</td>\n",
       "      <td>NaN</td>\n",
       "      <td>NaN</td>\n",
       "      <td>1.0</td>\n",
       "      <td>85.0</td>\n",
       "      <td>NaN</td>\n",
       "      <td>NaN</td>\n",
       "      <td>NaN</td>\n",
       "      <td>NaN</td>\n",
       "      <td>79.0</td>\n",
       "      <td>1</td>\n",
       "    </tr>\n",
       "    <tr>\n",
       "      <th>2</th>\n",
       "      <td>953713676730854570</td>\n",
       "      <td>373.0</td>\n",
       "      <td>NaN</td>\n",
       "      <td>NaN</td>\n",
       "      <td>NaN</td>\n",
       "      <td>NaN</td>\n",
       "      <td>736.0</td>\n",
       "      <td>42.0</td>\n",
       "      <td>NaN</td>\n",
       "      <td>NaN</td>\n",
       "      <td>...</td>\n",
       "      <td>NaN</td>\n",
       "      <td>NaN</td>\n",
       "      <td>1.0</td>\n",
       "      <td>76.0</td>\n",
       "      <td>NaN</td>\n",
       "      <td>NaN</td>\n",
       "      <td>NaN</td>\n",
       "      <td>NaN</td>\n",
       "      <td>65.0</td>\n",
       "      <td>1</td>\n",
       "    </tr>\n",
       "    <tr>\n",
       "      <th>3</th>\n",
       "      <td>238925310298938861</td>\n",
       "      <td>1919.0</td>\n",
       "      <td>NaN</td>\n",
       "      <td>NaN</td>\n",
       "      <td>NaN</td>\n",
       "      <td>14.0</td>\n",
       "      <td>691.0</td>\n",
       "      <td>74.0</td>\n",
       "      <td>NaN</td>\n",
       "      <td>NaN</td>\n",
       "      <td>...</td>\n",
       "      <td>NaN</td>\n",
       "      <td>1.0</td>\n",
       "      <td>2.0</td>\n",
       "      <td>79.0</td>\n",
       "      <td>NaN</td>\n",
       "      <td>NaN</td>\n",
       "      <td>NaN</td>\n",
       "      <td>1.0</td>\n",
       "      <td>43.5</td>\n",
       "      <td>1</td>\n",
       "    </tr>\n",
       "    <tr>\n",
       "      <th>4</th>\n",
       "      <td>1090774782213816251</td>\n",
       "      <td>2405.0</td>\n",
       "      <td>NaN</td>\n",
       "      <td>NaN</td>\n",
       "      <td>NaN</td>\n",
       "      <td>0.0</td>\n",
       "      <td>454.0</td>\n",
       "      <td>33.0</td>\n",
       "      <td>NaN</td>\n",
       "      <td>NaN</td>\n",
       "      <td>...</td>\n",
       "      <td>NaN</td>\n",
       "      <td>1.0</td>\n",
       "      <td>2.0</td>\n",
       "      <td>87.0</td>\n",
       "      <td>NaN</td>\n",
       "      <td>NaN</td>\n",
       "      <td>NaN</td>\n",
       "      <td>1.0</td>\n",
       "      <td>3.0</td>\n",
       "      <td>1</td>\n",
       "    </tr>\n",
       "  </tbody>\n",
       "</table>\n",
       "<p>5 rows × 38 columns</p>\n",
       "</div>"
      ],
      "text/plain": [
       "            visitor_id  day0_time_on_site_seconds  day1_time_on_site_seconds  \\\n",
       "0  3092487309701391768                      570.0                        NaN   \n",
       "1   780253600713375371                      705.0                        NaN   \n",
       "2   953713676730854570                      373.0                        NaN   \n",
       "3   238925310298938861                     1919.0                        NaN   \n",
       "4  1090774782213816251                     2405.0                        NaN   \n",
       "\n",
       "   day2_time_on_site_seconds  day3_time_on_site_seconds  \\\n",
       "0                     1021.0                        NaN   \n",
       "1                        NaN                        NaN   \n",
       "2                        NaN                        NaN   \n",
       "3                        NaN                        NaN   \n",
       "4                        NaN                        NaN   \n",
       "\n",
       "   day4_6_time_on_site_seconds  w2_time_on_site_seconds  day0_hits  day1_hits  \\\n",
       "0                          NaN                    533.0       26.0        NaN   \n",
       "1                          NaN                   1181.0       58.0        NaN   \n",
       "2                          NaN                    736.0       42.0        NaN   \n",
       "3                         14.0                    691.0       74.0        NaN   \n",
       "4                          0.0                    454.0       33.0        NaN   \n",
       "\n",
       "   day2_hits  ...  day3_sessions  day4_6_sessions  w2_sessions  \\\n",
       "0        6.0  ...            NaN              NaN          2.0   \n",
       "1        NaN  ...            NaN              NaN          1.0   \n",
       "2        NaN  ...            NaN              NaN          1.0   \n",
       "3        NaN  ...            NaN              1.0          2.0   \n",
       "4        NaN  ...            NaN              1.0          2.0   \n",
       "\n",
       "   day0_session_quality  day1_session_quality  day2_session_quality  \\\n",
       "0                  60.0                   NaN                   3.0   \n",
       "1                  85.0                   NaN                   NaN   \n",
       "2                  76.0                   NaN                   NaN   \n",
       "3                  79.0                   NaN                   NaN   \n",
       "4                  87.0                   NaN                   NaN   \n",
       "\n",
       "   day3_session_quality  day4_6_session_quality  w2_session_quality  label  \n",
       "0                   NaN                     NaN                 1.5      1  \n",
       "1                   NaN                     NaN                79.0      1  \n",
       "2                   NaN                     NaN                65.0      1  \n",
       "3                   NaN                     1.0                43.5      1  \n",
       "4                   NaN                     1.0                 3.0      1  \n",
       "\n",
       "[5 rows x 38 columns]"
      ]
     },
     "execution_count": 7,
     "metadata": {},
     "output_type": "execute_result"
    }
   ],
   "source": [
    "train.head()"
   ]
  },
  {
   "cell_type": "code",
   "execution_count": 16,
   "metadata": {},
   "outputs": [
    {
     "data": {
      "text/html": [
       "<div>\n",
       "<style scoped>\n",
       "    .dataframe tbody tr th:only-of-type {\n",
       "        vertical-align: middle;\n",
       "    }\n",
       "\n",
       "    .dataframe tbody tr th {\n",
       "        vertical-align: top;\n",
       "    }\n",
       "\n",
       "    .dataframe thead th {\n",
       "        text-align: right;\n",
       "    }\n",
       "</style>\n",
       "<table border=\"1\" class=\"dataframe\">\n",
       "  <thead>\n",
       "    <tr style=\"text-align: right;\">\n",
       "      <th></th>\n",
       "      <th>visitor_id</th>\n",
       "      <th>day0_time_on_site_seconds</th>\n",
       "      <th>day1_time_on_site_seconds</th>\n",
       "      <th>day2_time_on_site_seconds</th>\n",
       "      <th>day3_time_on_site_seconds</th>\n",
       "      <th>day4_6_time_on_site_seconds</th>\n",
       "      <th>w2_time_on_site_seconds</th>\n",
       "      <th>day0_hits</th>\n",
       "      <th>day1_hits</th>\n",
       "      <th>day2_hits</th>\n",
       "      <th>...</th>\n",
       "      <th>day3_sessions</th>\n",
       "      <th>day4_6_sessions</th>\n",
       "      <th>w2_sessions</th>\n",
       "      <th>day0_session_quality</th>\n",
       "      <th>day1_session_quality</th>\n",
       "      <th>day2_session_quality</th>\n",
       "      <th>day3_session_quality</th>\n",
       "      <th>day4_6_session_quality</th>\n",
       "      <th>w2_session_quality</th>\n",
       "      <th>label</th>\n",
       "    </tr>\n",
       "  </thead>\n",
       "  <tbody>\n",
       "    <tr>\n",
       "      <th>0</th>\n",
       "      <td>2801499422088453532</td>\n",
       "      <td>139.0</td>\n",
       "      <td>NaN</td>\n",
       "      <td>NaN</td>\n",
       "      <td>NaN</td>\n",
       "      <td>NaN</td>\n",
       "      <td>NaN</td>\n",
       "      <td>2.0</td>\n",
       "      <td>NaN</td>\n",
       "      <td>NaN</td>\n",
       "      <td>...</td>\n",
       "      <td>NaN</td>\n",
       "      <td>NaN</td>\n",
       "      <td>NaN</td>\n",
       "      <td>0.0</td>\n",
       "      <td>NaN</td>\n",
       "      <td>NaN</td>\n",
       "      <td>NaN</td>\n",
       "      <td>NaN</td>\n",
       "      <td>NaN</td>\n",
       "      <td>1</td>\n",
       "    </tr>\n",
       "    <tr>\n",
       "      <th>1</th>\n",
       "      <td>9697633748020539508</td>\n",
       "      <td>284.0</td>\n",
       "      <td>NaN</td>\n",
       "      <td>NaN</td>\n",
       "      <td>NaN</td>\n",
       "      <td>NaN</td>\n",
       "      <td>NaN</td>\n",
       "      <td>6.0</td>\n",
       "      <td>NaN</td>\n",
       "      <td>NaN</td>\n",
       "      <td>...</td>\n",
       "      <td>NaN</td>\n",
       "      <td>NaN</td>\n",
       "      <td>NaN</td>\n",
       "      <td>0.0</td>\n",
       "      <td>NaN</td>\n",
       "      <td>NaN</td>\n",
       "      <td>NaN</td>\n",
       "      <td>NaN</td>\n",
       "      <td>NaN</td>\n",
       "      <td>1</td>\n",
       "    </tr>\n",
       "    <tr>\n",
       "      <th>2</th>\n",
       "      <td>49628940161747998</td>\n",
       "      <td>171.0</td>\n",
       "      <td>NaN</td>\n",
       "      <td>NaN</td>\n",
       "      <td>NaN</td>\n",
       "      <td>NaN</td>\n",
       "      <td>NaN</td>\n",
       "      <td>9.0</td>\n",
       "      <td>NaN</td>\n",
       "      <td>NaN</td>\n",
       "      <td>...</td>\n",
       "      <td>NaN</td>\n",
       "      <td>NaN</td>\n",
       "      <td>NaN</td>\n",
       "      <td>0.0</td>\n",
       "      <td>NaN</td>\n",
       "      <td>NaN</td>\n",
       "      <td>NaN</td>\n",
       "      <td>NaN</td>\n",
       "      <td>NaN</td>\n",
       "      <td>1</td>\n",
       "    </tr>\n",
       "    <tr>\n",
       "      <th>3</th>\n",
       "      <td>6056987916550791423</td>\n",
       "      <td>178.0</td>\n",
       "      <td>NaN</td>\n",
       "      <td>NaN</td>\n",
       "      <td>NaN</td>\n",
       "      <td>NaN</td>\n",
       "      <td>NaN</td>\n",
       "      <td>10.0</td>\n",
       "      <td>NaN</td>\n",
       "      <td>NaN</td>\n",
       "      <td>...</td>\n",
       "      <td>NaN</td>\n",
       "      <td>NaN</td>\n",
       "      <td>NaN</td>\n",
       "      <td>0.0</td>\n",
       "      <td>NaN</td>\n",
       "      <td>NaN</td>\n",
       "      <td>NaN</td>\n",
       "      <td>NaN</td>\n",
       "      <td>NaN</td>\n",
       "      <td>1</td>\n",
       "    </tr>\n",
       "    <tr>\n",
       "      <th>4</th>\n",
       "      <td>3996687359433676152</td>\n",
       "      <td>222.0</td>\n",
       "      <td>NaN</td>\n",
       "      <td>NaN</td>\n",
       "      <td>NaN</td>\n",
       "      <td>NaN</td>\n",
       "      <td>NaN</td>\n",
       "      <td>10.0</td>\n",
       "      <td>NaN</td>\n",
       "      <td>NaN</td>\n",
       "      <td>...</td>\n",
       "      <td>NaN</td>\n",
       "      <td>NaN</td>\n",
       "      <td>NaN</td>\n",
       "      <td>0.0</td>\n",
       "      <td>NaN</td>\n",
       "      <td>NaN</td>\n",
       "      <td>NaN</td>\n",
       "      <td>NaN</td>\n",
       "      <td>NaN</td>\n",
       "      <td>1</td>\n",
       "    </tr>\n",
       "  </tbody>\n",
       "</table>\n",
       "<p>5 rows × 38 columns</p>\n",
       "</div>"
      ],
      "text/plain": [
       "            visitor_id  day0_time_on_site_seconds  day1_time_on_site_seconds  \\\n",
       "0  2801499422088453532                      139.0                        NaN   \n",
       "1  9697633748020539508                      284.0                        NaN   \n",
       "2    49628940161747998                      171.0                        NaN   \n",
       "3  6056987916550791423                      178.0                        NaN   \n",
       "4  3996687359433676152                      222.0                        NaN   \n",
       "\n",
       "   day2_time_on_site_seconds  day3_time_on_site_seconds  \\\n",
       "0                        NaN                        NaN   \n",
       "1                        NaN                        NaN   \n",
       "2                        NaN                        NaN   \n",
       "3                        NaN                        NaN   \n",
       "4                        NaN                        NaN   \n",
       "\n",
       "   day4_6_time_on_site_seconds  w2_time_on_site_seconds  day0_hits  day1_hits  \\\n",
       "0                          NaN                      NaN        2.0        NaN   \n",
       "1                          NaN                      NaN        6.0        NaN   \n",
       "2                          NaN                      NaN        9.0        NaN   \n",
       "3                          NaN                      NaN       10.0        NaN   \n",
       "4                          NaN                      NaN       10.0        NaN   \n",
       "\n",
       "   day2_hits  ...  day3_sessions  day4_6_sessions  w2_sessions  \\\n",
       "0        NaN  ...            NaN              NaN          NaN   \n",
       "1        NaN  ...            NaN              NaN          NaN   \n",
       "2        NaN  ...            NaN              NaN          NaN   \n",
       "3        NaN  ...            NaN              NaN          NaN   \n",
       "4        NaN  ...            NaN              NaN          NaN   \n",
       "\n",
       "   day0_session_quality  day1_session_quality  day2_session_quality  \\\n",
       "0                   0.0                   NaN                   NaN   \n",
       "1                   0.0                   NaN                   NaN   \n",
       "2                   0.0                   NaN                   NaN   \n",
       "3                   0.0                   NaN                   NaN   \n",
       "4                   0.0                   NaN                   NaN   \n",
       "\n",
       "   day3_session_quality  day4_6_session_quality  w2_session_quality  label  \n",
       "0                   NaN                     NaN                 NaN      1  \n",
       "1                   NaN                     NaN                 NaN      1  \n",
       "2                   NaN                     NaN                 NaN      1  \n",
       "3                   NaN                     NaN                 NaN      1  \n",
       "4                   NaN                     NaN                 NaN      1  \n",
       "\n",
       "[5 rows x 38 columns]"
      ]
     },
     "execution_count": 16,
     "metadata": {},
     "output_type": "execute_result"
    }
   ],
   "source": [
    "val.head()"
   ]
  }
 ],
 "metadata": {
  "kernelspec": {
   "display_name": "big_query",
   "language": "python",
   "name": "big_query"
  },
  "language_info": {
   "codemirror_mode": {
    "name": "ipython",
    "version": 3
   },
   "file_extension": ".py",
   "mimetype": "text/x-python",
   "name": "python",
   "nbconvert_exporter": "python",
   "pygments_lexer": "ipython3",
   "version": "3.8.5"
  }
 },
 "nbformat": 4,
 "nbformat_minor": 4
}
