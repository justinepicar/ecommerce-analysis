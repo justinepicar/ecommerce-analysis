{
 "cells": [
  {
   "cell_type": "markdown",
   "metadata": {},
   "source": [
    "We will be using Google's Analytic 360 Data obfuscated sample data from the Google Merchandise store on their BigQuery Rest API. The sample dataset provides 12 months (August 2016 to August 2017), however we will only be focusing on 1 of those months within the data set (July 1, 2017 to July 31, 2017).\n",
    "\n",
    "The [overview](https://console.cloud.google.com/marketplace/product/obfuscated-ga360-data/obfuscated-ga360-data?project=lexical-script-761) describes the data as typical of what an ecommerce website would see and includes the following information:\n",
    "\n",
    "- Traffic source data\n",
    "- Content data\n",
    "- Transactional data\n",
    "\n",
    "Constraints: \n",
    "\n",
    "1. All users have view access to the dataset and can only query the dataset and generate reports \n",
    "2. Data for some fields is obfuscated such as _fullVisitorId_\n",
    "3. Data for some field is removed such as _clientId_, _adWordsClickInfo_ and _geoNetwork_  \n",
    "4. “Not available in demo dataset” will be returned for STRING values \n",
    "5. “null” will be returned for INTEGER values when querying the fields containing no data"
   ]
  },
  {
   "cell_type": "markdown",
   "metadata": {},
   "source": [
    "## PROBLEM: \n",
    "___How can we determine a customer's propensity to buy based on their behaviors in multiple sessions over the days or weeks prior to a transaction in the scope of 1 month?___"
   ]
  },
  {
   "cell_type": "markdown",
   "metadata": {},
   "source": [
    "## SET-UP"
   ]
  },
  {
   "cell_type": "markdown",
   "metadata": {},
   "source": [
    "To use BigQuery, you will need to sign up for an account and get an API key. Follow the instructions here for [quick start](https://cloud.google.com/bigquery/docs/quickstarts/quickstart-client-libraries) and [authentication](https://cloud.google.com/docs/authentication/getting-started#cloud-console)."
   ]
  },
  {
   "cell_type": "code",
   "execution_count": 93,
   "metadata": {},
   "outputs": [],
   "source": [
    "# Load the \"autoreload\" extension\n",
    "#%load_ext autoreload\n",
    "\n",
    "#reload extension\n",
    "%reload_ext autoreload\n",
    "\n",
    "# always reload modules marked with \"%aimport\"\n",
    "%autoreload 1\n",
    "\n",
    "#Import all the necessary packages to query from the BigQuery Rest API\n",
    "import os\n",
    "import sys\n",
    "from google.cloud import bigquery\n",
    "\n",
    "# add the 'python' directory as one where we can import modules\n",
    "py_dir = os.path.join(os.getcwd(), 'python')\n",
    "\n",
    "# import my method from the source code\n",
    "from python.get_info import plot_hists, get_missing_data\n",
    "\n",
    "#Import all necessary packages for visualization and transformation of the data\n",
    "import matplotlib.pyplot as plt\n",
    "import pandas as pd\n",
    "import numpy as np"
   ]
  },
  {
   "cell_type": "code",
   "execution_count": 94,
   "metadata": {},
   "outputs": [],
   "source": [
    "#access BigQuery with your personal API key\n",
    "os.environ[\"GOOGLE_APPLICATION_CREDENTIALS\"]=\"api_key.json\"\n",
    "client = bigquery.Client()"
   ]
  },
  {
   "cell_type": "code",
   "execution_count": 5,
   "metadata": {},
   "outputs": [],
   "source": [
    "#preview the data\n",
    "query = ''' SELECT * \n",
    "            FROM `bigquery-public-data.google_analytics_sample.ga_sessions_20170801` \n",
    "            LIMIT 100'''\n",
    "sample = client.query(query).to_dataframe()"
   ]
  },
  {
   "cell_type": "code",
   "execution_count": 6,
   "metadata": {
    "scrolled": false
   },
   "outputs": [
    {
     "data": {
      "text/html": [
       "<div>\n",
       "<style scoped>\n",
       "    .dataframe tbody tr th:only-of-type {\n",
       "        vertical-align: middle;\n",
       "    }\n",
       "\n",
       "    .dataframe tbody tr th {\n",
       "        vertical-align: top;\n",
       "    }\n",
       "\n",
       "    .dataframe thead th {\n",
       "        text-align: right;\n",
       "    }\n",
       "</style>\n",
       "<table border=\"1\" class=\"dataframe\">\n",
       "  <thead>\n",
       "    <tr style=\"text-align: right;\">\n",
       "      <th></th>\n",
       "      <th>visitorId</th>\n",
       "      <th>visitNumber</th>\n",
       "      <th>visitId</th>\n",
       "      <th>visitStartTime</th>\n",
       "      <th>date</th>\n",
       "      <th>totals</th>\n",
       "      <th>trafficSource</th>\n",
       "      <th>device</th>\n",
       "      <th>geoNetwork</th>\n",
       "      <th>customDimensions</th>\n",
       "      <th>hits</th>\n",
       "      <th>fullVisitorId</th>\n",
       "      <th>userId</th>\n",
       "      <th>clientId</th>\n",
       "      <th>channelGrouping</th>\n",
       "      <th>socialEngagementType</th>\n",
       "    </tr>\n",
       "  </thead>\n",
       "  <tbody>\n",
       "    <tr>\n",
       "      <th>0</th>\n",
       "      <td>NaN</td>\n",
       "      <td>1</td>\n",
       "      <td>1501583974</td>\n",
       "      <td>1501583974</td>\n",
       "      <td>20170801</td>\n",
       "      <td>{'visits': 1, 'hits': 1, 'pageviews': 1, 'time...</td>\n",
       "      <td>{'referralPath': None, 'campaign': '(not set)'...</td>\n",
       "      <td>{'browser': 'Chrome', 'browserVersion': 'not a...</td>\n",
       "      <td>{'continent': 'Americas', 'subContinent': 'Car...</td>\n",
       "      <td>[]</td>\n",
       "      <td>[{'hitNumber': 1, 'time': 0, 'hour': 3, 'minut...</td>\n",
       "      <td>2248281639583218707</td>\n",
       "      <td>None</td>\n",
       "      <td>None</td>\n",
       "      <td>Organic Search</td>\n",
       "      <td>Not Socially Engaged</td>\n",
       "    </tr>\n",
       "    <tr>\n",
       "      <th>1</th>\n",
       "      <td>NaN</td>\n",
       "      <td>1</td>\n",
       "      <td>1501616585</td>\n",
       "      <td>1501616585</td>\n",
       "      <td>20170801</td>\n",
       "      <td>{'visits': 1, 'hits': 1, 'pageviews': 1, 'time...</td>\n",
       "      <td>{'referralPath': None, 'campaign': '(not set)'...</td>\n",
       "      <td>{'browser': 'Chrome', 'browserVersion': 'not a...</td>\n",
       "      <td>{'continent': 'Americas', 'subContinent': 'Nor...</td>\n",
       "      <td>[{'index': 4, 'value': 'North America'}]</td>\n",
       "      <td>[{'hitNumber': 1, 'time': 0, 'hour': 12, 'minu...</td>\n",
       "      <td>8647436381089107732</td>\n",
       "      <td>None</td>\n",
       "      <td>None</td>\n",
       "      <td>Organic Search</td>\n",
       "      <td>Not Socially Engaged</td>\n",
       "    </tr>\n",
       "    <tr>\n",
       "      <th>2</th>\n",
       "      <td>NaN</td>\n",
       "      <td>1</td>\n",
       "      <td>1501583344</td>\n",
       "      <td>1501583344</td>\n",
       "      <td>20170801</td>\n",
       "      <td>{'visits': 1, 'hits': 1, 'pageviews': 1, 'time...</td>\n",
       "      <td>{'referralPath': None, 'campaign': '(not set)'...</td>\n",
       "      <td>{'browser': 'Chrome', 'browserVersion': 'not a...</td>\n",
       "      <td>{'continent': 'Asia', 'subContinent': 'Souther...</td>\n",
       "      <td>[{'index': 4, 'value': 'APAC'}]</td>\n",
       "      <td>[{'hitNumber': 1, 'time': 0, 'hour': 3, 'minut...</td>\n",
       "      <td>2055839700856389632</td>\n",
       "      <td>None</td>\n",
       "      <td>None</td>\n",
       "      <td>Organic Search</td>\n",
       "      <td>Not Socially Engaged</td>\n",
       "    </tr>\n",
       "    <tr>\n",
       "      <th>3</th>\n",
       "      <td>NaN</td>\n",
       "      <td>1</td>\n",
       "      <td>1501573386</td>\n",
       "      <td>1501573386</td>\n",
       "      <td>20170801</td>\n",
       "      <td>{'visits': 1, 'hits': 1, 'pageviews': 1, 'time...</td>\n",
       "      <td>{'referralPath': None, 'campaign': '(not set)'...</td>\n",
       "      <td>{'browser': 'Chrome', 'browserVersion': 'not a...</td>\n",
       "      <td>{'continent': 'Europe', 'subContinent': 'Weste...</td>\n",
       "      <td>[{'index': 4, 'value': 'EMEA'}]</td>\n",
       "      <td>[{'hitNumber': 1, 'time': 0, 'hour': 0, 'minut...</td>\n",
       "      <td>0750846065342433129</td>\n",
       "      <td>None</td>\n",
       "      <td>None</td>\n",
       "      <td>Direct</td>\n",
       "      <td>Not Socially Engaged</td>\n",
       "    </tr>\n",
       "    <tr>\n",
       "      <th>4</th>\n",
       "      <td>NaN</td>\n",
       "      <td>8</td>\n",
       "      <td>1501651467</td>\n",
       "      <td>1501651467</td>\n",
       "      <td>20170801</td>\n",
       "      <td>{'visits': 1, 'hits': 1, 'pageviews': 1, 'time...</td>\n",
       "      <td>{'referralPath': None, 'campaign': '(not set)'...</td>\n",
       "      <td>{'browser': 'Chrome', 'browserVersion': 'not a...</td>\n",
       "      <td>{'continent': 'Americas', 'subContinent': 'Nor...</td>\n",
       "      <td>[{'index': 4, 'value': 'North America'}]</td>\n",
       "      <td>[{'hitNumber': 1, 'time': 0, 'hour': 22, 'minu...</td>\n",
       "      <td>0573427169410921198</td>\n",
       "      <td>None</td>\n",
       "      <td>None</td>\n",
       "      <td>Organic Search</td>\n",
       "      <td>Not Socially Engaged</td>\n",
       "    </tr>\n",
       "  </tbody>\n",
       "</table>\n",
       "</div>"
      ],
      "text/plain": [
       "   visitorId  visitNumber     visitId  visitStartTime      date  \\\n",
       "0        NaN            1  1501583974      1501583974  20170801   \n",
       "1        NaN            1  1501616585      1501616585  20170801   \n",
       "2        NaN            1  1501583344      1501583344  20170801   \n",
       "3        NaN            1  1501573386      1501573386  20170801   \n",
       "4        NaN            8  1501651467      1501651467  20170801   \n",
       "\n",
       "                                              totals  \\\n",
       "0  {'visits': 1, 'hits': 1, 'pageviews': 1, 'time...   \n",
       "1  {'visits': 1, 'hits': 1, 'pageviews': 1, 'time...   \n",
       "2  {'visits': 1, 'hits': 1, 'pageviews': 1, 'time...   \n",
       "3  {'visits': 1, 'hits': 1, 'pageviews': 1, 'time...   \n",
       "4  {'visits': 1, 'hits': 1, 'pageviews': 1, 'time...   \n",
       "\n",
       "                                       trafficSource  \\\n",
       "0  {'referralPath': None, 'campaign': '(not set)'...   \n",
       "1  {'referralPath': None, 'campaign': '(not set)'...   \n",
       "2  {'referralPath': None, 'campaign': '(not set)'...   \n",
       "3  {'referralPath': None, 'campaign': '(not set)'...   \n",
       "4  {'referralPath': None, 'campaign': '(not set)'...   \n",
       "\n",
       "                                              device  \\\n",
       "0  {'browser': 'Chrome', 'browserVersion': 'not a...   \n",
       "1  {'browser': 'Chrome', 'browserVersion': 'not a...   \n",
       "2  {'browser': 'Chrome', 'browserVersion': 'not a...   \n",
       "3  {'browser': 'Chrome', 'browserVersion': 'not a...   \n",
       "4  {'browser': 'Chrome', 'browserVersion': 'not a...   \n",
       "\n",
       "                                          geoNetwork  \\\n",
       "0  {'continent': 'Americas', 'subContinent': 'Car...   \n",
       "1  {'continent': 'Americas', 'subContinent': 'Nor...   \n",
       "2  {'continent': 'Asia', 'subContinent': 'Souther...   \n",
       "3  {'continent': 'Europe', 'subContinent': 'Weste...   \n",
       "4  {'continent': 'Americas', 'subContinent': 'Nor...   \n",
       "\n",
       "                           customDimensions  \\\n",
       "0                                        []   \n",
       "1  [{'index': 4, 'value': 'North America'}]   \n",
       "2           [{'index': 4, 'value': 'APAC'}]   \n",
       "3           [{'index': 4, 'value': 'EMEA'}]   \n",
       "4  [{'index': 4, 'value': 'North America'}]   \n",
       "\n",
       "                                                hits        fullVisitorId  \\\n",
       "0  [{'hitNumber': 1, 'time': 0, 'hour': 3, 'minut...  2248281639583218707   \n",
       "1  [{'hitNumber': 1, 'time': 0, 'hour': 12, 'minu...  8647436381089107732   \n",
       "2  [{'hitNumber': 1, 'time': 0, 'hour': 3, 'minut...  2055839700856389632   \n",
       "3  [{'hitNumber': 1, 'time': 0, 'hour': 0, 'minut...  0750846065342433129   \n",
       "4  [{'hitNumber': 1, 'time': 0, 'hour': 22, 'minu...  0573427169410921198   \n",
       "\n",
       "  userId clientId channelGrouping  socialEngagementType  \n",
       "0   None     None  Organic Search  Not Socially Engaged  \n",
       "1   None     None  Organic Search  Not Socially Engaged  \n",
       "2   None     None  Organic Search  Not Socially Engaged  \n",
       "3   None     None          Direct  Not Socially Engaged  \n",
       "4   None     None  Organic Search  Not Socially Engaged  "
      ]
     },
     "execution_count": 6,
     "metadata": {},
     "output_type": "execute_result"
    }
   ],
   "source": [
    "sample.head()"
   ]
  },
  {
   "cell_type": "markdown",
   "metadata": {},
   "source": [
    "## EXPLORING FEATURES"
   ]
  },
  {
   "cell_type": "markdown",
   "metadata": {},
   "source": [
    "### fullVisitorId and date\n",
    "\n",
    "To identify each unique visitor regardless of what day they visit on, we will be using __fullVisitorId__. \n",
    "\n",
    "__clientId__ and __userId__ have been deprecated and __visitId__ is only an identifier for each session. We want a high-level overview of each unique visitor's behavior over multiple sessions.\n",
    "\n",
    "Because we are concerned with transactions by day we will use __date__. Again, we will not use __visitStartTime__ because this records the start of each session and we want to observe behavior over multiple sessions."
   ]
  },
  {
   "cell_type": "markdown",
   "metadata": {},
   "source": [
    "### Other features to explore\n",
    "\n",
    "Because we are concerned by a customer's propensity to buy based on transactions and behaviors over multiple sessions by days and weeks, we will need to explore the __totals__ and __hits__ column.\n",
    "\n",
    "We will also look at __trafficSource__, __device__, __channelGrouping__, and __geoNetwork__ to get a sense of the constraints in the data and if we can use for further analysis by unsetting the data.\n",
    "\n",
    "Based on the preview data __customDimensions__ looks like a duplicate column for __geoNetwork__ so we will not be exploring this further.\n",
    "\n",
    "Because we only care about a high-level overview of whether or not visitors makes a purchase over a period of time and multiple sessions, we will not be looking at the __socialEngagementType__ or __visitNumber__ by each session (__visitNumber__ can be aggregated by the __visits__ feature nested in __totals__)."
   ]
  },
  {
   "cell_type": "markdown",
   "metadata": {},
   "source": [
    "# MISSING DATA"
   ]
  },
  {
   "cell_type": "markdown",
   "metadata": {},
   "source": [
    "For now, we will be querying a small random sample size of 1000 rows from August 1, 2017 to get a general idea of the kinds of features we have missing and available to us."
   ]
  },
  {
   "cell_type": "code",
   "execution_count": 95,
   "metadata": {},
   "outputs": [
    {
     "data": {
      "text/html": [
       "<div>\n",
       "<style scoped>\n",
       "    .dataframe tbody tr th:only-of-type {\n",
       "        vertical-align: middle;\n",
       "    }\n",
       "\n",
       "    .dataframe tbody tr th {\n",
       "        vertical-align: top;\n",
       "    }\n",
       "\n",
       "    .dataframe thead th {\n",
       "        text-align: right;\n",
       "    }\n",
       "</style>\n",
       "<table border=\"1\" class=\"dataframe\">\n",
       "  <thead>\n",
       "    <tr style=\"text-align: right;\">\n",
       "      <th></th>\n",
       "      <th>visits</th>\n",
       "      <th>hits</th>\n",
       "      <th>pageviews</th>\n",
       "      <th>timeOnSite</th>\n",
       "      <th>bounces</th>\n",
       "      <th>transactions</th>\n",
       "      <th>transactionRevenue</th>\n",
       "      <th>newVisits</th>\n",
       "      <th>screenviews</th>\n",
       "      <th>uniqueScreenviews</th>\n",
       "      <th>timeOnScreen</th>\n",
       "      <th>totalTransactionRevenue</th>\n",
       "      <th>sessionQualityDim</th>\n",
       "    </tr>\n",
       "  </thead>\n",
       "  <tbody>\n",
       "    <tr>\n",
       "      <th>0</th>\n",
       "      <td>1</td>\n",
       "      <td>2</td>\n",
       "      <td>2</td>\n",
       "      <td>6.0</td>\n",
       "      <td>NaN</td>\n",
       "      <td>NaN</td>\n",
       "      <td>NaN</td>\n",
       "      <td>NaN</td>\n",
       "      <td>NaN</td>\n",
       "      <td>NaN</td>\n",
       "      <td>NaN</td>\n",
       "      <td>NaN</td>\n",
       "      <td>1</td>\n",
       "    </tr>\n",
       "    <tr>\n",
       "      <th>1</th>\n",
       "      <td>1</td>\n",
       "      <td>1</td>\n",
       "      <td>1</td>\n",
       "      <td>NaN</td>\n",
       "      <td>1.0</td>\n",
       "      <td>NaN</td>\n",
       "      <td>NaN</td>\n",
       "      <td>1.0</td>\n",
       "      <td>NaN</td>\n",
       "      <td>NaN</td>\n",
       "      <td>NaN</td>\n",
       "      <td>NaN</td>\n",
       "      <td>1</td>\n",
       "    </tr>\n",
       "    <tr>\n",
       "      <th>2</th>\n",
       "      <td>1</td>\n",
       "      <td>1</td>\n",
       "      <td>1</td>\n",
       "      <td>NaN</td>\n",
       "      <td>1.0</td>\n",
       "      <td>NaN</td>\n",
       "      <td>NaN</td>\n",
       "      <td>1.0</td>\n",
       "      <td>NaN</td>\n",
       "      <td>NaN</td>\n",
       "      <td>NaN</td>\n",
       "      <td>NaN</td>\n",
       "      <td>1</td>\n",
       "    </tr>\n",
       "    <tr>\n",
       "      <th>3</th>\n",
       "      <td>1</td>\n",
       "      <td>1</td>\n",
       "      <td>1</td>\n",
       "      <td>NaN</td>\n",
       "      <td>1.0</td>\n",
       "      <td>NaN</td>\n",
       "      <td>NaN</td>\n",
       "      <td>1.0</td>\n",
       "      <td>NaN</td>\n",
       "      <td>NaN</td>\n",
       "      <td>NaN</td>\n",
       "      <td>NaN</td>\n",
       "      <td>1</td>\n",
       "    </tr>\n",
       "    <tr>\n",
       "      <th>4</th>\n",
       "      <td>1</td>\n",
       "      <td>3</td>\n",
       "      <td>3</td>\n",
       "      <td>75.0</td>\n",
       "      <td>NaN</td>\n",
       "      <td>NaN</td>\n",
       "      <td>NaN</td>\n",
       "      <td>1.0</td>\n",
       "      <td>NaN</td>\n",
       "      <td>NaN</td>\n",
       "      <td>NaN</td>\n",
       "      <td>NaN</td>\n",
       "      <td>1</td>\n",
       "    </tr>\n",
       "  </tbody>\n",
       "</table>\n",
       "</div>"
      ],
      "text/plain": [
       "   visits  hits  pageviews  timeOnSite  bounces  transactions  \\\n",
       "0       1     2          2         6.0      NaN           NaN   \n",
       "1       1     1          1         NaN      1.0           NaN   \n",
       "2       1     1          1         NaN      1.0           NaN   \n",
       "3       1     1          1         NaN      1.0           NaN   \n",
       "4       1     3          3        75.0      NaN           NaN   \n",
       "\n",
       "   transactionRevenue  newVisits  screenviews  uniqueScreenviews  \\\n",
       "0                 NaN        NaN          NaN                NaN   \n",
       "1                 NaN        1.0          NaN                NaN   \n",
       "2                 NaN        1.0          NaN                NaN   \n",
       "3                 NaN        1.0          NaN                NaN   \n",
       "4                 NaN        1.0          NaN                NaN   \n",
       "\n",
       "   timeOnScreen  totalTransactionRevenue  sessionQualityDim  \n",
       "0           NaN                      NaN                  1  \n",
       "1           NaN                      NaN                  1  \n",
       "2           NaN                      NaN                  1  \n",
       "3           NaN                      NaN                  1  \n",
       "4           NaN                      NaN                  1  "
      ]
     },
     "execution_count": 95,
     "metadata": {},
     "output_type": "execute_result"
    }
   ],
   "source": [
    "query = ''' SELECT *\n",
    "            FROM UNNEST(ARRAY(SELECT totals\n",
    "                              FROM `bigquery-public-data.google_analytics_sample.ga_sessions_*`\n",
    "                              WHERE _TABLE_SUFFIX BETWEEN '20170801' AND '20170801'\n",
    "                              ORDER BY RAND() LIMIT 1000\n",
    "            ))'''\n",
    "totals_df = client.query(query).to_dataframe()\n",
    "totals_df.head()"
   ]
  },
  {
   "cell_type": "code",
   "execution_count": 96,
   "metadata": {
    "scrolled": true
   },
   "outputs": [
    {
     "name": "stdout",
     "output_type": "stream",
     "text": [
      "% of Missing Data:\n",
      "visits                       0.0\n",
      "hits                         0.0\n",
      "pageviews                    0.0\n",
      "timeOnSite                  46.1\n",
      "bounces                     54.2\n",
      "transactions                97.9\n",
      "transactionRevenue          97.9\n",
      "newVisits                   27.2\n",
      "screenviews                100.0\n",
      "uniqueScreenviews          100.0\n",
      "timeOnScreen               100.0\n",
      "totalTransactionRevenue     97.9\n",
      "sessionQualityDim            0.0\n",
      "dtype: float64\n",
      "\n"
     ]
    }
   ],
   "source": [
    "get_missing_data(totals_df)"
   ]
  },
  {
   "cell_type": "markdown",
   "metadata": {},
   "source": [
    "There is a lot of missing data, but this is normal as not every visitor purchases something on the page. \n",
    "\n",
    "Let's look at the distribution of each feature:"
   ]
  },
  {
   "cell_type": "code",
   "execution_count": 52,
   "metadata": {
    "scrolled": false
   },
   "outputs": [
    {
     "data": {
      "image/png": "[encoded data removed]",
      "text/plain": [
       "<Figure size 432x288 with 1 Axes>"
      ]
     },
     "metadata": {
      "needs_background": "light"
     },
     "output_type": "display_data"
    },
    {
     "data": {
      "image/png": "[encoded data removed]",
      "text/plain": [
       "<Figure size 432x288 with 1 Axes>"
      ]
     },
     "metadata": {
      "needs_background": "light"
     },
     "output_type": "display_data"
    },
    {
     "data": {
      "image/png": "[encoded data removed]",
      "text/plain": [
       "<Figure size 432x288 with 1 Axes>"
      ]
     },
     "metadata": {
      "needs_background": "light"
     },
     "output_type": "display_data"
    },
    {
     "data": {
      "image/png": "[encoded data removed]",
      "text/plain": [
       "<Figure size 432x288 with 1 Axes>"
      ]
     },
     "metadata": {
      "needs_background": "light"
     },
     "output_type": "display_data"
    },
    {
     "data": {
      "image/png": "[encoded data removed]",
      "text/plain": [
       "<Figure size 432x288 with 1 Axes>"
      ]
     },
     "metadata": {
      "needs_background": "light"
     },
     "output_type": "display_data"
    },
    {
     "data": {
      "image/png": "[encoded data removed]",
      "text/plain": [
       "<Figure size 432x288 with 1 Axes>"
      ]
     },
     "metadata": {
      "needs_background": "light"
     },
     "output_type": "display_data"
    },
    {
     "data": {
      "image/png": "[encoded data removed]",
      "text/plain": [
       "<Figure size 432x288 with 1 Axes>"
      ]
     },
     "metadata": {
      "needs_background": "light"
     },
     "output_type": "display_data"
    },
    {
     "data": {
      "image/png": "[encoded data removed]",
      "text/plain": [
       "<Figure size 432x288 with 1 Axes>"
      ]
     },
     "metadata": {
      "needs_background": "light"
     },
     "output_type": "display_data"
    },
    {
     "data": {
      "image/png": "[encoded data removed]",
      "text/plain": [
       "<Figure size 432x288 with 1 Axes>"
      ]
     },
     "metadata": {
      "needs_background": "light"
     },
     "output_type": "display_data"
    },
    {
     "data": {
      "image/png": "[encoded data removed]",
      "text/plain": [
       "<Figure size 432x288 with 1 Axes>"
      ]
     },
     "metadata": {
      "needs_background": "light"
     },
     "output_type": "display_data"
    },
    {
     "data": {
      "image/png": "[encoded data removed]",
      "text/plain": [
       "<Figure size 432x288 with 1 Axes>"
      ]
     },
     "metadata": {
      "needs_background": "light"
     },
     "output_type": "display_data"
    },
    {
     "data": {
      "image/png": "[encoded data removed]",
      "text/plain": [
       "<Figure size 432x288 with 1 Axes>"
      ]
     },
     "metadata": {
      "needs_background": "light"
     },
     "output_type": "display_data"
    },
    {
     "data": {
      "image/png": "[encoded data removed]",
      "text/plain": [
       "<Figure size 432x288 with 1 Axes>"
      ]
     },
     "metadata": {
      "needs_background": "light"
     },
     "output_type": "display_data"
    }
   ],
   "source": [
    "plot_hists(totals_df)"
   ]
  },
  {
   "cell_type": "markdown",
   "metadata": {},
   "source": [
    "Based on the distribution of the features in the histogram, we can see that the only completely missing features from our random sample are __screenViews__, __uniqueScreenViews__, and __timeOnScreen__.\n",
    "\n",
    "We can't disregard the missing data from the other features because these are indicators that a customer hasn't purchased or that the user has only interacted with one feature on the page.\n",
    "\n",
    "Of these features the most useful could be the following:\n",
    "\n",
    "- __visits__ - this represents the number of sessions\n",
    "- __hits__ - total number of interactions within a session\n",
    "- __pageviews__ - total number of pageviews in a session\n",
    "- __bounces__ - total bounces. These trigger in the Analytics server if only a single interaction is made on the whole website\n",
    "- __sessionQuality__ - an estimate of how close a particular estimate was close to transacting from 1 to 100 with 1 being the lowest session quality and 100 being close to transacting\n",
    "- __timeOnSite__ - total time of the session in seconds\n",
    "\n",
    "Based on the question we're trying to answer, we will be using __transactions__ to help us create our labels (whether or not a visitor buys or not).\n",
    "\n",
    "We can aggregate these features by the fullVisitorId and dates to get a bigger picture of each visitors behavior over multiple sessions in a day. "
   ]
  },
  {
   "cell_type": "markdown",
   "metadata": {},
   "source": [
    "### TRAFFIC SOURCE"
   ]
  },
  {
   "cell_type": "code",
   "execution_count": 77,
   "metadata": {},
   "outputs": [
    {
     "name": "stdout",
     "output_type": "stream",
     "text": [
      "% of Missing Data:\n",
      "referralPath         73.9\n",
      "campaign              0.0\n",
      "source                0.0\n",
      "medium                0.0\n",
      "keyword              99.9\n",
      "adContent            99.5\n",
      "isTrueDirect         67.8\n",
      "campaignCode        100.0\n",
      "adwordsClickInfo      0.0\n",
      "dtype: float64\n",
      "\n"
     ]
    }
   ],
   "source": [
    "query ='''SELECT referralPath, campaign, source, medium, keyword, adContent, isTrueDirect, campaignCode, adwordsClickInfo                                 \n",
    "          FROM UNNEST(ARRAY( SELECT trafficSource\n",
    "                             FROM `bigquery-public-data.google_analytics_sample.ga_sessions_*`\n",
    "                             WHERE _TABLE_SUFFIX BETWEEN '20170801' AND '20170801'\n",
    "                             ORDER BY RAND() LIMIT 1000\n",
    "                            ))'''\n",
    "\n",
    "trafficSource_df = client.query(query).to_dataframe()\n",
    "get_missing_data(trafficSource_df)"
   ]
  },
  {
   "cell_type": "code",
   "execution_count": 35,
   "metadata": {
    "scrolled": true
   },
   "outputs": [
    {
     "data": {
      "text/html": [
       "<div>\n",
       "<style scoped>\n",
       "    .dataframe tbody tr th:only-of-type {\n",
       "        vertical-align: middle;\n",
       "    }\n",
       "\n",
       "    .dataframe tbody tr th {\n",
       "        vertical-align: top;\n",
       "    }\n",
       "\n",
       "    .dataframe thead th {\n",
       "        text-align: right;\n",
       "    }\n",
       "</style>\n",
       "<table border=\"1\" class=\"dataframe\">\n",
       "  <thead>\n",
       "    <tr style=\"text-align: right;\">\n",
       "      <th></th>\n",
       "      <th>referralPath</th>\n",
       "      <th>campaign</th>\n",
       "      <th>source</th>\n",
       "      <th>medium</th>\n",
       "      <th>keyword</th>\n",
       "      <th>adContent</th>\n",
       "      <th>isTrueDirect</th>\n",
       "      <th>campaignCode</th>\n",
       "      <th>adwordsClickInfo</th>\n",
       "    </tr>\n",
       "  </thead>\n",
       "  <tbody>\n",
       "    <tr>\n",
       "      <th>0</th>\n",
       "      <td>/intl/ja/yt/about/</td>\n",
       "      <td>(not set)</td>\n",
       "      <td>youtube.com</td>\n",
       "      <td>referral</td>\n",
       "      <td>None</td>\n",
       "      <td>None</td>\n",
       "      <td>None</td>\n",
       "      <td>None</td>\n",
       "      <td>{'campaignId': None, 'adGroupId': None, 'creat...</td>\n",
       "    </tr>\n",
       "    <tr>\n",
       "      <th>1</th>\n",
       "      <td>None</td>\n",
       "      <td>(not set)</td>\n",
       "      <td>(direct)</td>\n",
       "      <td>(none)</td>\n",
       "      <td>None</td>\n",
       "      <td>None</td>\n",
       "      <td>None</td>\n",
       "      <td>None</td>\n",
       "      <td>{'campaignId': None, 'adGroupId': None, 'creat...</td>\n",
       "    </tr>\n",
       "    <tr>\n",
       "      <th>2</th>\n",
       "      <td>None</td>\n",
       "      <td>(not set)</td>\n",
       "      <td>(direct)</td>\n",
       "      <td>(none)</td>\n",
       "      <td>None</td>\n",
       "      <td>None</td>\n",
       "      <td>True</td>\n",
       "      <td>None</td>\n",
       "      <td>{'campaignId': None, 'adGroupId': None, 'creat...</td>\n",
       "    </tr>\n",
       "    <tr>\n",
       "      <th>3</th>\n",
       "      <td>None</td>\n",
       "      <td>(not set)</td>\n",
       "      <td>(direct)</td>\n",
       "      <td>(none)</td>\n",
       "      <td>None</td>\n",
       "      <td>None</td>\n",
       "      <td>True</td>\n",
       "      <td>None</td>\n",
       "      <td>{'campaignId': None, 'adGroupId': None, 'creat...</td>\n",
       "    </tr>\n",
       "    <tr>\n",
       "      <th>4</th>\n",
       "      <td>None</td>\n",
       "      <td>(not set)</td>\n",
       "      <td>(direct)</td>\n",
       "      <td>(none)</td>\n",
       "      <td>None</td>\n",
       "      <td>None</td>\n",
       "      <td>None</td>\n",
       "      <td>None</td>\n",
       "      <td>{'campaignId': None, 'adGroupId': None, 'creat...</td>\n",
       "    </tr>\n",
       "  </tbody>\n",
       "</table>\n",
       "</div>"
      ],
      "text/plain": [
       "         referralPath   campaign       source    medium keyword adContent  \\\n",
       "0  /intl/ja/yt/about/  (not set)  youtube.com  referral    None      None   \n",
       "1                None  (not set)     (direct)    (none)    None      None   \n",
       "2                None  (not set)     (direct)    (none)    None      None   \n",
       "3                None  (not set)     (direct)    (none)    None      None   \n",
       "4                None  (not set)     (direct)    (none)    None      None   \n",
       "\n",
       "  isTrueDirect campaignCode                                   adwordsClickInfo  \n",
       "0         None         None  {'campaignId': None, 'adGroupId': None, 'creat...  \n",
       "1         None         None  {'campaignId': None, 'adGroupId': None, 'creat...  \n",
       "2         True         None  {'campaignId': None, 'adGroupId': None, 'creat...  \n",
       "3         True         None  {'campaignId': None, 'adGroupId': None, 'creat...  \n",
       "4         None         None  {'campaignId': None, 'adGroupId': None, 'creat...  "
      ]
     },
     "execution_count": 35,
     "metadata": {},
     "output_type": "execute_result"
    }
   ],
   "source": [
    "trafficSource_df.head()"
   ]
  },
  {
   "cell_type": "markdown",
   "metadata": {},
   "source": [
    "_adwordsClickInfo_ is also nested; we will need to unset this separately."
   ]
  },
  {
   "cell_type": "code",
   "execution_count": 78,
   "metadata": {},
   "outputs": [
    {
     "name": "stdout",
     "output_type": "stream",
     "text": [
      "% of Missing Data:\n",
      "campaignId            100.0\n",
      "adGroupId             100.0\n",
      "creativeId            100.0\n",
      "criteriaId            100.0\n",
      "page                   98.3\n",
      "slot                   98.3\n",
      "criteriaParameters      0.0\n",
      "gclId                  98.3\n",
      "customerId            100.0\n",
      "adNetworkType          98.3\n",
      "boomUserlistId        100.0\n",
      "isVideoAd              98.3\n",
      "dtype: float64\n",
      "\n"
     ]
    }
   ],
   "source": [
    "query='''SELECT campaignId, adGroupId, creativeId, criteriaId, page, slot, criteriaParameters,\n",
    "         gclId, customerId, adNetworkType, targetingCriteria.boomUserlistId, isVideoAd\n",
    "         FROM UNNEST(ARRAY(  SELECT adwordsClickInfo\n",
    "                             FROM UNNEST(ARRAY( SELECT trafficSource\n",
    "                                                FROM `bigquery-public-data.google_analytics_sample.ga_sessions_*`\n",
    "                                                WHERE _TABLE_SUFFIX BETWEEN '20170801' AND '20170801'\n",
    "                                                ORDER BY RAND() LIMIT 1000\n",
    "                                               ))))'''\n",
    "\n",
    "trafficSource_ads_df = client.query(query).to_dataframe()\n",
    "get_missing_data(trafficSource_ads_df)"
   ]
  },
  {
   "cell_type": "markdown",
   "metadata": {},
   "source": [
    "As expected, there is a lot of missing data for __trafficSource__ that's been removed from the sample dataset.\n",
    "However, because we only care about customer propensity once a visitor is in Google Marketplace and not customer journey, we will not be using this feature for this project."
   ]
  },
  {
   "cell_type": "markdown",
   "metadata": {},
   "source": [
    "### DEVICE"
   ]
  },
  {
   "cell_type": "code",
   "execution_count": 79,
   "metadata": {},
   "outputs": [
    {
     "name": "stdout",
     "output_type": "stream",
     "text": [
      "% of Missing Data:\n",
      "browser                        0.0\n",
      "browserVersion                 0.0\n",
      "browserSize                    0.0\n",
      "operatingSystem                0.0\n",
      "operatingSystemVersion         0.0\n",
      "isMobile                       0.0\n",
      "mobileDeviceBranding           0.0\n",
      "mobileDeviceModel              0.0\n",
      "mobileInputSelector            0.0\n",
      "mobileDeviceInfo               0.0\n",
      "mobileDeviceMarketingName      0.0\n",
      "flashVersion                   0.0\n",
      "javaEnabled                  100.0\n",
      "language                       0.0\n",
      "screenColors                   0.0\n",
      "screenResolution               0.0\n",
      "deviceCategory                 0.0\n",
      "dtype: float64\n",
      "\n"
     ]
    }
   ],
   "source": [
    "query ='''SELECT *\n",
    "          FROM UNNEST(ARRAY(  SELECT device\n",
    "                              FROM `bigquery-public-data.google_analytics_sample.ga_sessions_*`\n",
    "                              WHERE _TABLE_SUFFIX BETWEEN '20170801' AND '20170801'\n",
    "                              ORDER BY RAND() LIMIT 1000\n",
    "                            ))'''\n",
    "\n",
    "device_df = client.query(query).to_dataframe()\n",
    "get_missing_data(device_df)"
   ]
  },
  {
   "cell_type": "markdown",
   "metadata": {},
   "source": [
    "So far it looks like there is a lot of information under __device__. Let's double check by previewing the column first."
   ]
  },
  {
   "cell_type": "code",
   "execution_count": 81,
   "metadata": {
    "scrolled": false
   },
   "outputs": [
    {
     "data": {
      "text/html": [
       "<div>\n",
       "<style scoped>\n",
       "    .dataframe tbody tr th:only-of-type {\n",
       "        vertical-align: middle;\n",
       "    }\n",
       "\n",
       "    .dataframe tbody tr th {\n",
       "        vertical-align: top;\n",
       "    }\n",
       "\n",
       "    .dataframe thead th {\n",
       "        text-align: right;\n",
       "    }\n",
       "</style>\n",
       "<table border=\"1\" class=\"dataframe\">\n",
       "  <thead>\n",
       "    <tr style=\"text-align: right;\">\n",
       "      <th></th>\n",
       "      <th>browser</th>\n",
       "      <th>browserVersion</th>\n",
       "      <th>browserSize</th>\n",
       "      <th>operatingSystem</th>\n",
       "      <th>operatingSystemVersion</th>\n",
       "      <th>isMobile</th>\n",
       "      <th>mobileDeviceBranding</th>\n",
       "      <th>mobileDeviceModel</th>\n",
       "      <th>mobileInputSelector</th>\n",
       "      <th>mobileDeviceInfo</th>\n",
       "      <th>mobileDeviceMarketingName</th>\n",
       "      <th>flashVersion</th>\n",
       "      <th>javaEnabled</th>\n",
       "      <th>language</th>\n",
       "      <th>screenColors</th>\n",
       "      <th>screenResolution</th>\n",
       "      <th>deviceCategory</th>\n",
       "    </tr>\n",
       "  </thead>\n",
       "  <tbody>\n",
       "    <tr>\n",
       "      <th>0</th>\n",
       "      <td>Chrome</td>\n",
       "      <td>not available in demo dataset</td>\n",
       "      <td>not available in demo dataset</td>\n",
       "      <td>Android</td>\n",
       "      <td>not available in demo dataset</td>\n",
       "      <td>True</td>\n",
       "      <td>not available in demo dataset</td>\n",
       "      <td>not available in demo dataset</td>\n",
       "      <td>not available in demo dataset</td>\n",
       "      <td>not available in demo dataset</td>\n",
       "      <td>not available in demo dataset</td>\n",
       "      <td>not available in demo dataset</td>\n",
       "      <td>None</td>\n",
       "      <td>not available in demo dataset</td>\n",
       "      <td>not available in demo dataset</td>\n",
       "      <td>not available in demo dataset</td>\n",
       "      <td>mobile</td>\n",
       "    </tr>\n",
       "    <tr>\n",
       "      <th>1</th>\n",
       "      <td>Chrome</td>\n",
       "      <td>not available in demo dataset</td>\n",
       "      <td>not available in demo dataset</td>\n",
       "      <td>Chrome OS</td>\n",
       "      <td>not available in demo dataset</td>\n",
       "      <td>False</td>\n",
       "      <td>not available in demo dataset</td>\n",
       "      <td>not available in demo dataset</td>\n",
       "      <td>not available in demo dataset</td>\n",
       "      <td>not available in demo dataset</td>\n",
       "      <td>not available in demo dataset</td>\n",
       "      <td>not available in demo dataset</td>\n",
       "      <td>None</td>\n",
       "      <td>not available in demo dataset</td>\n",
       "      <td>not available in demo dataset</td>\n",
       "      <td>not available in demo dataset</td>\n",
       "      <td>desktop</td>\n",
       "    </tr>\n",
       "    <tr>\n",
       "      <th>2</th>\n",
       "      <td>Chrome</td>\n",
       "      <td>not available in demo dataset</td>\n",
       "      <td>not available in demo dataset</td>\n",
       "      <td>Macintosh</td>\n",
       "      <td>not available in demo dataset</td>\n",
       "      <td>False</td>\n",
       "      <td>not available in demo dataset</td>\n",
       "      <td>not available in demo dataset</td>\n",
       "      <td>not available in demo dataset</td>\n",
       "      <td>not available in demo dataset</td>\n",
       "      <td>not available in demo dataset</td>\n",
       "      <td>not available in demo dataset</td>\n",
       "      <td>None</td>\n",
       "      <td>not available in demo dataset</td>\n",
       "      <td>not available in demo dataset</td>\n",
       "      <td>not available in demo dataset</td>\n",
       "      <td>desktop</td>\n",
       "    </tr>\n",
       "    <tr>\n",
       "      <th>3</th>\n",
       "      <td>Chrome</td>\n",
       "      <td>not available in demo dataset</td>\n",
       "      <td>not available in demo dataset</td>\n",
       "      <td>Macintosh</td>\n",
       "      <td>not available in demo dataset</td>\n",
       "      <td>False</td>\n",
       "      <td>not available in demo dataset</td>\n",
       "      <td>not available in demo dataset</td>\n",
       "      <td>not available in demo dataset</td>\n",
       "      <td>not available in demo dataset</td>\n",
       "      <td>not available in demo dataset</td>\n",
       "      <td>not available in demo dataset</td>\n",
       "      <td>None</td>\n",
       "      <td>not available in demo dataset</td>\n",
       "      <td>not available in demo dataset</td>\n",
       "      <td>not available in demo dataset</td>\n",
       "      <td>desktop</td>\n",
       "    </tr>\n",
       "    <tr>\n",
       "      <th>4</th>\n",
       "      <td>Chrome</td>\n",
       "      <td>not available in demo dataset</td>\n",
       "      <td>not available in demo dataset</td>\n",
       "      <td>Macintosh</td>\n",
       "      <td>not available in demo dataset</td>\n",
       "      <td>False</td>\n",
       "      <td>not available in demo dataset</td>\n",
       "      <td>not available in demo dataset</td>\n",
       "      <td>not available in demo dataset</td>\n",
       "      <td>not available in demo dataset</td>\n",
       "      <td>not available in demo dataset</td>\n",
       "      <td>not available in demo dataset</td>\n",
       "      <td>None</td>\n",
       "      <td>not available in demo dataset</td>\n",
       "      <td>not available in demo dataset</td>\n",
       "      <td>not available in demo dataset</td>\n",
       "      <td>desktop</td>\n",
       "    </tr>\n",
       "  </tbody>\n",
       "</table>\n",
       "</div>"
      ],
      "text/plain": [
       "  browser                 browserVersion                    browserSize  \\\n",
       "0  Chrome  not available in demo dataset  not available in demo dataset   \n",
       "1  Chrome  not available in demo dataset  not available in demo dataset   \n",
       "2  Chrome  not available in demo dataset  not available in demo dataset   \n",
       "3  Chrome  not available in demo dataset  not available in demo dataset   \n",
       "4  Chrome  not available in demo dataset  not available in demo dataset   \n",
       "\n",
       "  operatingSystem         operatingSystemVersion  isMobile  \\\n",
       "0         Android  not available in demo dataset      True   \n",
       "1       Chrome OS  not available in demo dataset     False   \n",
       "2       Macintosh  not available in demo dataset     False   \n",
       "3       Macintosh  not available in demo dataset     False   \n",
       "4       Macintosh  not available in demo dataset     False   \n",
       "\n",
       "            mobileDeviceBranding              mobileDeviceModel  \\\n",
       "0  not available in demo dataset  not available in demo dataset   \n",
       "1  not available in demo dataset  not available in demo dataset   \n",
       "2  not available in demo dataset  not available in demo dataset   \n",
       "3  not available in demo dataset  not available in demo dataset   \n",
       "4  not available in demo dataset  not available in demo dataset   \n",
       "\n",
       "             mobileInputSelector               mobileDeviceInfo  \\\n",
       "0  not available in demo dataset  not available in demo dataset   \n",
       "1  not available in demo dataset  not available in demo dataset   \n",
       "2  not available in demo dataset  not available in demo dataset   \n",
       "3  not available in demo dataset  not available in demo dataset   \n",
       "4  not available in demo dataset  not available in demo dataset   \n",
       "\n",
       "       mobileDeviceMarketingName                   flashVersion javaEnabled  \\\n",
       "0  not available in demo dataset  not available in demo dataset        None   \n",
       "1  not available in demo dataset  not available in demo dataset        None   \n",
       "2  not available in demo dataset  not available in demo dataset        None   \n",
       "3  not available in demo dataset  not available in demo dataset        None   \n",
       "4  not available in demo dataset  not available in demo dataset        None   \n",
       "\n",
       "                        language                   screenColors  \\\n",
       "0  not available in demo dataset  not available in demo dataset   \n",
       "1  not available in demo dataset  not available in demo dataset   \n",
       "2  not available in demo dataset  not available in demo dataset   \n",
       "3  not available in demo dataset  not available in demo dataset   \n",
       "4  not available in demo dataset  not available in demo dataset   \n",
       "\n",
       "                screenResolution deviceCategory  \n",
       "0  not available in demo dataset         mobile  \n",
       "1  not available in demo dataset        desktop  \n",
       "2  not available in demo dataset        desktop  \n",
       "3  not available in demo dataset        desktop  \n",
       "4  not available in demo dataset        desktop  "
      ]
     },
     "execution_count": 81,
     "metadata": {},
     "output_type": "execute_result"
    }
   ],
   "source": [
    "device_df.head()"
   ]
  },
  {
   "cell_type": "code",
   "execution_count": 88,
   "metadata": {
    "scrolled": false
   },
   "outputs": [
    {
     "data": {
      "image/png": "[encoded data removed]",
      "text/plain": [
       "<Figure size 432x288 with 1 Axes>"
      ]
     },
     "metadata": {
      "needs_background": "light"
     },
     "output_type": "display_data"
    },
    {
     "data": {
      "image/png": "[encoded data removed]",
      "text/plain": [
       "<Figure size 432x288 with 1 Axes>"
      ]
     },
     "metadata": {
      "needs_background": "light"
     },
     "output_type": "display_data"
    },
    {
     "data": {
      "image/png": "[encoded data removed]",
      "text/plain": [
       "<Figure size 432x288 with 1 Axes>"
      ]
     },
     "metadata": {
      "needs_background": "light"
     },
     "output_type": "display_data"
    }
   ],
   "source": [
    "plot_hists(device_df.iloc[:, [0, 3, -1]])"
   ]
  },
  {
   "cell_type": "markdown",
   "metadata": {},
   "source": [
    "A lot of information isn't available for mobile device, other than determining the __deviceCategory__, __browser_, __operatingSystem__ and __isMobile__. However, because we only care about customer propensity once a visitor is in Google Marketplace and not customer journey, we will not be using the __device__ feature for this project. It is interesting to note that most interactions happen on Desktop using Google Chrome."
   ]
  },
  {
   "cell_type": "markdown",
   "metadata": {},
   "source": [
    "### geoNetwork"
   ]
  },
  {
   "cell_type": "code",
   "execution_count": 82,
   "metadata": {
    "scrolled": false
   },
   "outputs": [
    {
     "name": "stdout",
     "output_type": "stream",
     "text": [
      "% of Missing Data:\n",
      "continent          0.0\n",
      "subContinent       0.0\n",
      "country            0.0\n",
      "region             0.0\n",
      "metro              0.0\n",
      "city               0.0\n",
      "cityId             0.0\n",
      "networkDomain      0.0\n",
      "latitude           0.0\n",
      "longitude          0.0\n",
      "networkLocation    0.0\n",
      "dtype: float64\n",
      "\n"
     ]
    }
   ],
   "source": [
    "query ='''SELECT *\n",
    "          FROM UNNEST(ARRAY( SELECT\n",
    "                             geoNetwork\n",
    "                             FROM `bigquery-public-data.google_analytics_sample.ga_sessions_*`\n",
    "                             WHERE _TABLE_SUFFIX BETWEEN '20170801' AND '20170801'\n",
    "                             ORDER BY RAND() LIMIT 1000\n",
    "                              ))'''\n",
    "\n",
    "geoNetwork_df = client.query(query).to_dataframe()\n",
    "get_missing_data(geoNetwork_df)"
   ]
  },
  {
   "cell_type": "markdown",
   "metadata": {},
   "source": [
    "It looks like there isn't any missing data. However, one of our constraints note that there is. We need to preview the data in this case."
   ]
  },
  {
   "cell_type": "code",
   "execution_count": 49,
   "metadata": {
    "scrolled": false
   },
   "outputs": [
    {
     "data": {
      "text/html": [
       "<div>\n",
       "<style scoped>\n",
       "    .dataframe tbody tr th:only-of-type {\n",
       "        vertical-align: middle;\n",
       "    }\n",
       "\n",
       "    .dataframe tbody tr th {\n",
       "        vertical-align: top;\n",
       "    }\n",
       "\n",
       "    .dataframe thead th {\n",
       "        text-align: right;\n",
       "    }\n",
       "</style>\n",
       "<table border=\"1\" class=\"dataframe\">\n",
       "  <thead>\n",
       "    <tr style=\"text-align: right;\">\n",
       "      <th></th>\n",
       "      <th>continent</th>\n",
       "      <th>subContinent</th>\n",
       "      <th>country</th>\n",
       "      <th>region</th>\n",
       "      <th>metro</th>\n",
       "      <th>city</th>\n",
       "      <th>cityId</th>\n",
       "      <th>networkDomain</th>\n",
       "      <th>latitude</th>\n",
       "      <th>longitude</th>\n",
       "      <th>networkLocation</th>\n",
       "    </tr>\n",
       "  </thead>\n",
       "  <tbody>\n",
       "    <tr>\n",
       "      <th>0</th>\n",
       "      <td>Asia</td>\n",
       "      <td>Southern Asia</td>\n",
       "      <td>Pakistan</td>\n",
       "      <td>not available in demo dataset</td>\n",
       "      <td>not available in demo dataset</td>\n",
       "      <td>not available in demo dataset</td>\n",
       "      <td>not available in demo dataset</td>\n",
       "      <td>unknown.unknown</td>\n",
       "      <td>not available in demo dataset</td>\n",
       "      <td>not available in demo dataset</td>\n",
       "      <td>not available in demo dataset</td>\n",
       "    </tr>\n",
       "    <tr>\n",
       "      <th>1</th>\n",
       "      <td>Asia</td>\n",
       "      <td>Southern Asia</td>\n",
       "      <td>India</td>\n",
       "      <td>not available in demo dataset</td>\n",
       "      <td>not available in demo dataset</td>\n",
       "      <td>not available in demo dataset</td>\n",
       "      <td>not available in demo dataset</td>\n",
       "      <td>(not set)</td>\n",
       "      <td>not available in demo dataset</td>\n",
       "      <td>not available in demo dataset</td>\n",
       "      <td>not available in demo dataset</td>\n",
       "    </tr>\n",
       "    <tr>\n",
       "      <th>2</th>\n",
       "      <td>Americas</td>\n",
       "      <td>Northern America</td>\n",
       "      <td>United States</td>\n",
       "      <td>not available in demo dataset</td>\n",
       "      <td>not available in demo dataset</td>\n",
       "      <td>not available in demo dataset</td>\n",
       "      <td>not available in demo dataset</td>\n",
       "      <td>(not set)</td>\n",
       "      <td>not available in demo dataset</td>\n",
       "      <td>not available in demo dataset</td>\n",
       "      <td>not available in demo dataset</td>\n",
       "    </tr>\n",
       "    <tr>\n",
       "      <th>3</th>\n",
       "      <td>Americas</td>\n",
       "      <td>Northern America</td>\n",
       "      <td>United States</td>\n",
       "      <td>New York</td>\n",
       "      <td>New York NY</td>\n",
       "      <td>New York</td>\n",
       "      <td>not available in demo dataset</td>\n",
       "      <td>(not set)</td>\n",
       "      <td>not available in demo dataset</td>\n",
       "      <td>not available in demo dataset</td>\n",
       "      <td>not available in demo dataset</td>\n",
       "    </tr>\n",
       "    <tr>\n",
       "      <th>4</th>\n",
       "      <td>Europe</td>\n",
       "      <td>Western Europe</td>\n",
       "      <td>Germany</td>\n",
       "      <td>not available in demo dataset</td>\n",
       "      <td>not available in demo dataset</td>\n",
       "      <td>not available in demo dataset</td>\n",
       "      <td>not available in demo dataset</td>\n",
       "      <td>kabel-badenwuerttemberg.de</td>\n",
       "      <td>not available in demo dataset</td>\n",
       "      <td>not available in demo dataset</td>\n",
       "      <td>not available in demo dataset</td>\n",
       "    </tr>\n",
       "  </tbody>\n",
       "</table>\n",
       "</div>"
      ],
      "text/plain": [
       "  continent      subContinent        country                         region  \\\n",
       "0      Asia     Southern Asia       Pakistan  not available in demo dataset   \n",
       "1      Asia     Southern Asia          India  not available in demo dataset   \n",
       "2  Americas  Northern America  United States  not available in demo dataset   \n",
       "3  Americas  Northern America  United States                       New York   \n",
       "4    Europe    Western Europe        Germany  not available in demo dataset   \n",
       "\n",
       "                           metro                           city  \\\n",
       "0  not available in demo dataset  not available in demo dataset   \n",
       "1  not available in demo dataset  not available in demo dataset   \n",
       "2  not available in demo dataset  not available in demo dataset   \n",
       "3                    New York NY                       New York   \n",
       "4  not available in demo dataset  not available in demo dataset   \n",
       "\n",
       "                          cityId               networkDomain  \\\n",
       "0  not available in demo dataset             unknown.unknown   \n",
       "1  not available in demo dataset                   (not set)   \n",
       "2  not available in demo dataset                   (not set)   \n",
       "3  not available in demo dataset                   (not set)   \n",
       "4  not available in demo dataset  kabel-badenwuerttemberg.de   \n",
       "\n",
       "                        latitude                      longitude  \\\n",
       "0  not available in demo dataset  not available in demo dataset   \n",
       "1  not available in demo dataset  not available in demo dataset   \n",
       "2  not available in demo dataset  not available in demo dataset   \n",
       "3  not available in demo dataset  not available in demo dataset   \n",
       "4  not available in demo dataset  not available in demo dataset   \n",
       "\n",
       "                 networkLocation  \n",
       "0  not available in demo dataset  \n",
       "1  not available in demo dataset  \n",
       "2  not available in demo dataset  \n",
       "3  not available in demo dataset  \n",
       "4  not available in demo dataset  "
      ]
     },
     "execution_count": 49,
     "metadata": {},
     "output_type": "execute_result"
    }
   ],
   "source": [
    "geoNetwork_df.head()"
   ]
  },
  {
   "cell_type": "code",
   "execution_count": 84,
   "metadata": {
    "scrolled": false
   },
   "outputs": [
    {
     "data": {
      "image/png": "[encoded data removed]",
      "text/plain": [
       "<Figure size 432x288 with 1 Axes>"
      ]
     },
     "metadata": {
      "needs_background": "light"
     },
     "output_type": "display_data"
    },
    {
     "data": {
      "image/png": "[encoded data removed]",
      "text/plain": [
       "<Figure size 432x288 with 1 Axes>"
      ]
     },
     "metadata": {
      "needs_background": "light"
     },
     "output_type": "display_data"
    },
    {
     "data": {
      "image/png": "[encoded data removed]",
      "text/plain": [
       "<Figure size 432x288 with 1 Axes>"
      ]
     },
     "metadata": {
      "needs_background": "light"
     },
     "output_type": "display_data"
    },
    {
     "data": {
      "image/png": "[encoded data removed]",
      "text/plain": [
       "<Figure size 432x288 with 1 Axes>"
      ]
     },
     "metadata": {
      "needs_background": "light"
     },
     "output_type": "display_data"
    },
    {
     "data": {
      "image/png": "[encoded data removed]",
      "text/plain": [
       "<Figure size 432x288 with 1 Axes>"
      ]
     },
     "metadata": {
      "needs_background": "light"
     },
     "output_type": "display_data"
    },
    {
     "data": {
      "image/png": "[encoded data removed]",
      "text/plain": [
       "<Figure size 432x288 with 1 Axes>"
      ]
     },
     "metadata": {
      "needs_background": "light"
     },
     "output_type": "display_data"
    }
   ],
   "source": [
    "plot_hists(geoNetwork_df.iloc[:,:6])"
   ]
  },
  {
   "cell_type": "markdown",
   "metadata": {},
   "source": [
    "As noted in the description overview, most of these features are 'not available in demo dataset'. Furthermore, because we care about _all_ transactions regardless of location or region, there is no need to view or breakout this feature for our project. Based on the information we have however, most visitors are based in the U.S."
   ]
  },
  {
   "cell_type": "markdown",
   "metadata": {},
   "source": [
    "### Hits"
   ]
  },
  {
   "cell_type": "markdown",
   "metadata": {},
   "source": [
    "We need to unnest __hits__ to take a closer look at the features."
   ]
  },
  {
   "cell_type": "code",
   "execution_count": 66,
   "metadata": {},
   "outputs": [],
   "source": [
    "query = ''' SELECT *\n",
    "            FROM `bigquery-public-data.google_analytics_sample.ga_sessions_*`,\n",
    "            UNNEST(hits)\n",
    "            WHERE _TABLE_SUFFIX BETWEEN '20170801' AND '20170801'\n",
    "            ORDER BY RAND() LIMIT 1000\n",
    "                '''\n",
    "hits_df = client.query(query).to_dataframe()"
   ]
  },
  {
   "cell_type": "markdown",
   "metadata": {},
   "source": [
    "This query will unnest all hits and also call all the higher levels features that we have viewed previously (__fullVisitorId__, __trafficSource__, __geoNetwork__, etc) so we will only look at the new features. "
   ]
  },
  {
   "cell_type": "code",
   "execution_count": 71,
   "metadata": {},
   "outputs": [],
   "source": [
    "hits_df = hits_df.iloc[:,10:]"
   ]
  },
  {
   "cell_type": "code",
   "execution_count": 75,
   "metadata": {
    "scrolled": false
   },
   "outputs": [
    {
     "data": {
      "text/html": [
       "<div>\n",
       "<style scoped>\n",
       "    .dataframe tbody tr th:only-of-type {\n",
       "        vertical-align: middle;\n",
       "    }\n",
       "\n",
       "    .dataframe tbody tr th {\n",
       "        vertical-align: top;\n",
       "    }\n",
       "\n",
       "    .dataframe thead th {\n",
       "        text-align: right;\n",
       "    }\n",
       "</style>\n",
       "<table border=\"1\" class=\"dataframe\">\n",
       "  <thead>\n",
       "    <tr style=\"text-align: right;\">\n",
       "      <th></th>\n",
       "      <th>0</th>\n",
       "      <th>1</th>\n",
       "    </tr>\n",
       "  </thead>\n",
       "  <tbody>\n",
       "    <tr>\n",
       "      <th>hits</th>\n",
       "      <td>[{'hitNumber': 1, 'time': 0, 'hour': 11, 'minu...</td>\n",
       "      <td>[{'hitNumber': 1, 'time': 0, 'hour': 14, 'minu...</td>\n",
       "    </tr>\n",
       "    <tr>\n",
       "      <th>fullVisitorId</th>\n",
       "      <td>0815047945706399620</td>\n",
       "      <td>8016003971239765913</td>\n",
       "    </tr>\n",
       "    <tr>\n",
       "      <th>userId</th>\n",
       "      <td>None</td>\n",
       "      <td>None</td>\n",
       "    </tr>\n",
       "    <tr>\n",
       "      <th>clientId</th>\n",
       "      <td>None</td>\n",
       "      <td>None</td>\n",
       "    </tr>\n",
       "    <tr>\n",
       "      <th>channelGrouping</th>\n",
       "      <td>Referral</td>\n",
       "      <td>Referral</td>\n",
       "    </tr>\n",
       "    <tr>\n",
       "      <th>socialEngagementType</th>\n",
       "      <td>Not Socially Engaged</td>\n",
       "      <td>Not Socially Engaged</td>\n",
       "    </tr>\n",
       "    <tr>\n",
       "      <th>hitNumber</th>\n",
       "      <td>4</td>\n",
       "      <td>86</td>\n",
       "    </tr>\n",
       "    <tr>\n",
       "      <th>time</th>\n",
       "      <td>34802</td>\n",
       "      <td>1548768</td>\n",
       "    </tr>\n",
       "    <tr>\n",
       "      <th>hour</th>\n",
       "      <td>11</td>\n",
       "      <td>15</td>\n",
       "    </tr>\n",
       "    <tr>\n",
       "      <th>minute</th>\n",
       "      <td>43</td>\n",
       "      <td>5</td>\n",
       "    </tr>\n",
       "    <tr>\n",
       "      <th>isSecure</th>\n",
       "      <td>None</td>\n",
       "      <td>None</td>\n",
       "    </tr>\n",
       "    <tr>\n",
       "      <th>isInteraction</th>\n",
       "      <td>True</td>\n",
       "      <td>True</td>\n",
       "    </tr>\n",
       "    <tr>\n",
       "      <th>isEntrance</th>\n",
       "      <td>None</td>\n",
       "      <td>None</td>\n",
       "    </tr>\n",
       "    <tr>\n",
       "      <th>isExit</th>\n",
       "      <td>None</td>\n",
       "      <td>None</td>\n",
       "    </tr>\n",
       "    <tr>\n",
       "      <th>referer</th>\n",
       "      <td>None</td>\n",
       "      <td>None</td>\n",
       "    </tr>\n",
       "    <tr>\n",
       "      <th>page</th>\n",
       "      <td>{'pagePath': '/google+redesign/apparel/kids/ki...</td>\n",
       "      <td>{'pagePath': '/google+redesign/apparel/kids/ki...</td>\n",
       "    </tr>\n",
       "    <tr>\n",
       "      <th>transaction</th>\n",
       "      <td>{'transactionId': None, 'transactionRevenue': ...</td>\n",
       "      <td>None</td>\n",
       "    </tr>\n",
       "    <tr>\n",
       "      <th>item</th>\n",
       "      <td>{'transactionId': None, 'productName': None, '...</td>\n",
       "      <td>None</td>\n",
       "    </tr>\n",
       "    <tr>\n",
       "      <th>contentInfo</th>\n",
       "      <td>None</td>\n",
       "      <td>None</td>\n",
       "    </tr>\n",
       "    <tr>\n",
       "      <th>appInfo</th>\n",
       "      <td>{'name': None, 'version': None, 'id': None, 'i...</td>\n",
       "      <td>{'name': None, 'version': None, 'id': None, 'i...</td>\n",
       "    </tr>\n",
       "    <tr>\n",
       "      <th>exceptionInfo</th>\n",
       "      <td>{'description': None, 'isFatal': True, 'except...</td>\n",
       "      <td>{'description': None, 'isFatal': True, 'except...</td>\n",
       "    </tr>\n",
       "    <tr>\n",
       "      <th>eventInfo</th>\n",
       "      <td>None</td>\n",
       "      <td>{'eventCategory': 'Enhanced Ecommerce', 'event...</td>\n",
       "    </tr>\n",
       "    <tr>\n",
       "      <th>product</th>\n",
       "      <td>[{'productSKU': 'GGOEGKWR060810', 'v2ProductNa...</td>\n",
       "      <td>[{'productSKU': 'GGOEGKWQ060910', 'v2ProductNa...</td>\n",
       "    </tr>\n",
       "    <tr>\n",
       "      <th>promotion</th>\n",
       "      <td>[]</td>\n",
       "      <td>[]</td>\n",
       "    </tr>\n",
       "    <tr>\n",
       "      <th>promotionActionInfo</th>\n",
       "      <td>None</td>\n",
       "      <td>None</td>\n",
       "    </tr>\n",
       "    <tr>\n",
       "      <th>refund</th>\n",
       "      <td>None</td>\n",
       "      <td>None</td>\n",
       "    </tr>\n",
       "    <tr>\n",
       "      <th>eCommerceAction</th>\n",
       "      <td>{'action_type': '0', 'step': 1, 'option': None}</td>\n",
       "      <td>{'action_type': '1', 'step': 1, 'option': None}</td>\n",
       "    </tr>\n",
       "    <tr>\n",
       "      <th>experiment</th>\n",
       "      <td>[]</td>\n",
       "      <td>[]</td>\n",
       "    </tr>\n",
       "    <tr>\n",
       "      <th>publisher</th>\n",
       "      <td>None</td>\n",
       "      <td>None</td>\n",
       "    </tr>\n",
       "    <tr>\n",
       "      <th>customVariables</th>\n",
       "      <td>[]</td>\n",
       "      <td>[]</td>\n",
       "    </tr>\n",
       "    <tr>\n",
       "      <th>customDimensions_1</th>\n",
       "      <td>[]</td>\n",
       "      <td>[]</td>\n",
       "    </tr>\n",
       "    <tr>\n",
       "      <th>customMetrics</th>\n",
       "      <td>[]</td>\n",
       "      <td>[]</td>\n",
       "    </tr>\n",
       "    <tr>\n",
       "      <th>type</th>\n",
       "      <td>PAGE</td>\n",
       "      <td>EVENT</td>\n",
       "    </tr>\n",
       "    <tr>\n",
       "      <th>social</th>\n",
       "      <td>{'socialInteractionNetwork': None, 'socialInte...</td>\n",
       "      <td>{'socialInteractionNetwork': None, 'socialInte...</td>\n",
       "    </tr>\n",
       "    <tr>\n",
       "      <th>latencyTracking</th>\n",
       "      <td>None</td>\n",
       "      <td>None</td>\n",
       "    </tr>\n",
       "    <tr>\n",
       "      <th>sourcePropertyInfo</th>\n",
       "      <td>None</td>\n",
       "      <td>None</td>\n",
       "    </tr>\n",
       "    <tr>\n",
       "      <th>contentGroup</th>\n",
       "      <td>{'contentGroup1': '(not set)', 'contentGroup2'...</td>\n",
       "      <td>{'contentGroup1': '(not set)', 'contentGroup2'...</td>\n",
       "    </tr>\n",
       "    <tr>\n",
       "      <th>dataSource</th>\n",
       "      <td>web</td>\n",
       "      <td>web</td>\n",
       "    </tr>\n",
       "    <tr>\n",
       "      <th>publisher_infos</th>\n",
       "      <td>[]</td>\n",
       "      <td>[]</td>\n",
       "    </tr>\n",
       "  </tbody>\n",
       "</table>\n",
       "</div>"
      ],
      "text/plain": [
       "                                                                      0  \\\n",
       "hits                  [{'hitNumber': 1, 'time': 0, 'hour': 11, 'minu...   \n",
       "fullVisitorId                                       0815047945706399620   \n",
       "userId                                                             None   \n",
       "clientId                                                           None   \n",
       "channelGrouping                                                Referral   \n",
       "socialEngagementType                               Not Socially Engaged   \n",
       "hitNumber                                                             4   \n",
       "time                                                              34802   \n",
       "hour                                                                 11   \n",
       "minute                                                               43   \n",
       "isSecure                                                           None   \n",
       "isInteraction                                                      True   \n",
       "isEntrance                                                         None   \n",
       "isExit                                                             None   \n",
       "referer                                                            None   \n",
       "page                  {'pagePath': '/google+redesign/apparel/kids/ki...   \n",
       "transaction           {'transactionId': None, 'transactionRevenue': ...   \n",
       "item                  {'transactionId': None, 'productName': None, '...   \n",
       "contentInfo                                                        None   \n",
       "appInfo               {'name': None, 'version': None, 'id': None, 'i...   \n",
       "exceptionInfo         {'description': None, 'isFatal': True, 'except...   \n",
       "eventInfo                                                          None   \n",
       "product               [{'productSKU': 'GGOEGKWR060810', 'v2ProductNa...   \n",
       "promotion                                                            []   \n",
       "promotionActionInfo                                                None   \n",
       "refund                                                             None   \n",
       "eCommerceAction         {'action_type': '0', 'step': 1, 'option': None}   \n",
       "experiment                                                           []   \n",
       "publisher                                                          None   \n",
       "customVariables                                                      []   \n",
       "customDimensions_1                                                   []   \n",
       "customMetrics                                                        []   \n",
       "type                                                               PAGE   \n",
       "social                {'socialInteractionNetwork': None, 'socialInte...   \n",
       "latencyTracking                                                    None   \n",
       "sourcePropertyInfo                                                 None   \n",
       "contentGroup          {'contentGroup1': '(not set)', 'contentGroup2'...   \n",
       "dataSource                                                          web   \n",
       "publisher_infos                                                      []   \n",
       "\n",
       "                                                                      1  \n",
       "hits                  [{'hitNumber': 1, 'time': 0, 'hour': 14, 'minu...  \n",
       "fullVisitorId                                       8016003971239765913  \n",
       "userId                                                             None  \n",
       "clientId                                                           None  \n",
       "channelGrouping                                                Referral  \n",
       "socialEngagementType                               Not Socially Engaged  \n",
       "hitNumber                                                            86  \n",
       "time                                                            1548768  \n",
       "hour                                                                 15  \n",
       "minute                                                                5  \n",
       "isSecure                                                           None  \n",
       "isInteraction                                                      True  \n",
       "isEntrance                                                         None  \n",
       "isExit                                                             None  \n",
       "referer                                                            None  \n",
       "page                  {'pagePath': '/google+redesign/apparel/kids/ki...  \n",
       "transaction                                                        None  \n",
       "item                                                               None  \n",
       "contentInfo                                                        None  \n",
       "appInfo               {'name': None, 'version': None, 'id': None, 'i...  \n",
       "exceptionInfo         {'description': None, 'isFatal': True, 'except...  \n",
       "eventInfo             {'eventCategory': 'Enhanced Ecommerce', 'event...  \n",
       "product               [{'productSKU': 'GGOEGKWQ060910', 'v2ProductNa...  \n",
       "promotion                                                            []  \n",
       "promotionActionInfo                                                None  \n",
       "refund                                                             None  \n",
       "eCommerceAction         {'action_type': '1', 'step': 1, 'option': None}  \n",
       "experiment                                                           []  \n",
       "publisher                                                          None  \n",
       "customVariables                                                      []  \n",
       "customDimensions_1                                                   []  \n",
       "customMetrics                                                        []  \n",
       "type                                                              EVENT  \n",
       "social                {'socialInteractionNetwork': None, 'socialInte...  \n",
       "latencyTracking                                                    None  \n",
       "sourcePropertyInfo                                                 None  \n",
       "contentGroup          {'contentGroup1': '(not set)', 'contentGroup2'...  \n",
       "dataSource                                                          web  \n",
       "publisher_infos                                                      []  "
      ]
     },
     "execution_count": 75,
     "metadata": {},
     "output_type": "execute_result"
    }
   ],
   "source": [
    "hits_df[0:2].T.head(40)"
   ]
  },
  {
   "cell_type": "markdown",
   "metadata": {},
   "source": [
    "Based on the overview of these features, we can see most are unrelated to the question we are trying to answer, are duplicates or redundant information (__hits__, __fullVisitorId__, __channelGrouping__, __hitNumber__, etc) or are related to customer journey analysis (__isEntrance__, __isExit__, __dataSource__, __appInfo__, __eventInfo__, etc).\n",
    "\n",
    "These features would be considered the most useful if they weren't also redundant to the __totals__ column:\n",
    "\n",
    "- __isInteraction__ - we can determine total number of interactions by aggregating total hits under __totals.hits__\n",
    "- __transaction__ - we can determine if a transaction is made by aggregating total transactions greater than 1\n",
    "- __item__ - we care about all transactions regardless of item type and only need a high-level overview of all transactions\n",
    "- __product__ - we care about all transactions regardless of product type and only need a high-level overview of all transactions\n",
    "- __eCommerceAction__ - we can determine if a transaction is made by aggregating total transactions greater than 1"
   ]
  },
  {
   "cell_type": "markdown",
   "metadata": {},
   "source": [
    "### Channel Grouping"
   ]
  },
  {
   "cell_type": "code",
   "execution_count": 39,
   "metadata": {},
   "outputs": [],
   "source": [
    "query ='''SELECT fullVisitorId, channelGrouping\n",
    "          FROM `bigquery-public-data.google_analytics_sample.ga_sessions_*`\n",
    "          WHERE _TABLE_SUFFIX BETWEEN '20170801' AND '20170801'\n",
    "          ORDER BY RAND() LIMIT 1000'''\n",
    "channel_df = client.query(query).to_dataframe()"
   ]
  },
  {
   "cell_type": "code",
   "execution_count": 40,
   "metadata": {
    "scrolled": true
   },
   "outputs": [
    {
     "data": {
      "image/png": "[encoded data removed]",
      "text/plain": [
       "<Figure size 432x288 with 1 Axes>"
      ]
     },
     "metadata": {
      "needs_background": "light"
     },
     "output_type": "display_data"
    }
   ],
   "source": [
    "channel_df.channelGrouping.value_counts().plot(kind='barh')\n",
    "plt.title('Distribution of Channel Grouping')\n",
    "plt.show()"
   ]
  },
  {
   "cell_type": "markdown",
   "metadata": {},
   "source": [
    "While it is interesting to see that majority of users find products via organic search, we only care about customer propensity once a visitor is in the marketplace and not customer journey, so we will not be using the __channelGrouping__ feature."
   ]
  },
  {
   "cell_type": "markdown",
   "metadata": {},
   "source": [
    "### Conclusion\n",
    "\n",
    "In summary and based on our thorough examination of each feature, the column that will be most useful in creating our features and labels will be the __totals__ column in the next notebook."
   ]
  }
 ],
 "metadata": {
  "kernelspec": {
   "display_name": "big_query",
   "language": "python",
   "name": "big_query"
  },
  "language_info": {
   "codemirror_mode": {
    "name": "ipython",
    "version": 3
   },
   "file_extension": ".py",
   "mimetype": "text/x-python",
   "name": "python",
   "nbconvert_exporter": "python",
   "pygments_lexer": "ipython3",
   "version": "3.8.5"
  }
 },
 "nbformat": 4,
 "nbformat_minor": 4
}
